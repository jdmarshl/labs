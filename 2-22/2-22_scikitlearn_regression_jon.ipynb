{
 "cells": [
  {
   "cell_type": "markdown",
   "metadata": {},
   "source": [
    "# 2-22: Intro to scikit-learn\n",
    "\n",
    "<img src=\"https://www.cityofberkeley.info/uploadedImages/Public_Works/Level_3_-_Transportation/DSC_0637.JPG\" style=\"width: 500px; height: 275px;\" />\n",
    "---\n",
    "\n",
    "** Regression** is useful for predicting a value that varies on a continuous scale from a bunch of features. This lab will introduce the regression methods available in the scikit-learn extension to scipy, focusing on ordinary least squares linear regression, LASSO, and Ridge regression.\n",
    "\n",
    "*Estimated Time: 45 minutes*\n",
    "\n",
    "---\n",
    "\n",
    "\n",
    "### Table of Contents\n",
    "\n",
    "\n",
    "1 - [The Test-Train-Validation Split](#section 1)<br>\n",
    "\n",
    "2 - [Linear Regression](#section 2)<br>\n",
    "\n",
    "3 - [LASSO Regression](#section 3)<br>\n",
    "\n",
    "4 - [Ridge Regression](#section 4)<br>\n",
    "\n",
    "5 - [Choosing a Model](#section 5)<br>\n",
    "\n",
    "\n",
    "\n",
    "**Dependencies:**"
   ]
  },
  {
   "cell_type": "code",
   "execution_count": 35,
   "metadata": {},
   "outputs": [],
   "source": [
    "import numpy as np\n",
    "from datascience import *\n",
    "import datetime as dt\n",
    "import pandas as pd\n",
    "import matplotlib.pyplot as plt\n",
    "%matplotlib inline\n",
    "from sklearn.model_selection import train_test_split\n",
    "from sklearn.linear_model import Ridge, Lasso, LinearRegression\n",
    "from sklearn.model_selection import KFold"
   ]
  },
  {
   "cell_type": "markdown",
   "metadata": {},
   "source": [
    "## The Data: Bike Sharing"
   ]
  },
  {
   "cell_type": "markdown",
   "metadata": {},
   "source": [
    "In your time at Cal, you've probably passed by one of the many bike sharing station around campus. Bike sharing systems have become more and more popular as traffic and concerns about global warming rise. This lab's data describes one such bike sharing system in Washington D.C., from [UC Irvine's Machine Learning Repository](https://archive.ics.uci.edu/ml/datasets/Bike+Sharing+Dataset)."
   ]
  },
  {
   "cell_type": "code",
   "execution_count": 36,
   "metadata": {},
   "outputs": [
    {
     "data": {
      "text/html": [
       "<table border=\"1\" class=\"dataframe\">\n",
       "    <thead>\n",
       "        <tr>\n",
       "            <th>dteday</th> <th>season</th> <th>yr</th> <th>mnth</th> <th>holiday</th> <th>weekday</th> <th>workingday</th> <th>weathersit</th> <th>temp</th> <th>atemp</th> <th>hum</th> <th>windspeed</th> <th>casual</th> <th>registered</th> <th>cnt</th>\n",
       "        </tr>\n",
       "    </thead>\n",
       "    <tbody>\n",
       "        <tr>\n",
       "            <td>001   </td> <td>1     </td> <td>0   </td> <td>1   </td> <td>0      </td> <td>6      </td> <td>0         </td> <td>2         </td> <td>0.344167</td> <td>0.363625</td> <td>0.805833</td> <td>0.160446 </td> <td>331   </td> <td>654       </td> <td>985 </td>\n",
       "        </tr>\n",
       "    </tbody>\n",
       "        <tr>\n",
       "            <td>002   </td> <td>1     </td> <td>0   </td> <td>1   </td> <td>0      </td> <td>0      </td> <td>0         </td> <td>2         </td> <td>0.363478</td> <td>0.353739</td> <td>0.696087</td> <td>0.248539 </td> <td>131   </td> <td>670       </td> <td>801 </td>\n",
       "        </tr>\n",
       "    </tbody>\n",
       "        <tr>\n",
       "            <td>003   </td> <td>1     </td> <td>0   </td> <td>1   </td> <td>0      </td> <td>1      </td> <td>1         </td> <td>1         </td> <td>0.196364</td> <td>0.189405</td> <td>0.437273</td> <td>0.248309 </td> <td>120   </td> <td>1229      </td> <td>1349</td>\n",
       "        </tr>\n",
       "    </tbody>\n",
       "        <tr>\n",
       "            <td>004   </td> <td>1     </td> <td>0   </td> <td>1   </td> <td>0      </td> <td>2      </td> <td>1         </td> <td>1         </td> <td>0.2     </td> <td>0.212122</td> <td>0.590435</td> <td>0.160296 </td> <td>108   </td> <td>1454      </td> <td>1562</td>\n",
       "        </tr>\n",
       "    </tbody>\n",
       "</table>\n",
       "<p>... (727 rows omitted)</p"
      ],
      "text/plain": [
       "<IPython.core.display.HTML object>"
      ]
     },
     "metadata": {},
     "output_type": "display_data"
    }
   ],
   "source": [
    "bike=Table().read_table(('data/Bike-Sharing-Dataset/day.csv'))\n",
    "\n",
    "# reformat the date column to integers representing the day of the year, 001-366\n",
    "bike['dteday'] = pd.to_datetime(bike['dteday']).strftime('%j')\n",
    "\n",
    "# get rid of the index column\n",
    "bike = bike.drop(0)\n",
    "\n",
    "bike.show(4)"
   ]
  },
  {
   "cell_type": "markdown",
   "metadata": {},
   "source": [
    "Take a moment to get familiar with the data set. In data science, you'll often hear rows referred to as **records** and columns as **features**. Before you continue, make sure you can answer the following:\n",
    "\n",
    "- How many records are in this data set?\n",
    "- What does each record represent?\n",
    "- What are the different features?\n",
    "- How is each feature represented? What values does it take, and what are the data types of each value?\n",
    "\n",
    "Use Table methods and check the UC Irvine link for more information."
   ]
  },
  {
   "cell_type": "code",
   "execution_count": 37,
   "metadata": {},
   "outputs": [
    {
     "name": "stdout",
     "output_type": "stream",
     "text": [
      "731  records  with variables  ('dteday', 'season', 'yr', 'mnth', 'holiday', 'weekday', 'workingday', 'weathersit', 'temp', 'atemp', 'hum', 'windspeed', 'casual', 'registered', 'cnt')\n",
      "type for features <class 'tuple'>\n",
      "None\n",
      "None\n"
     ]
    },
    {
     "data": {
      "image/png": "[encoded data removed]",
      "text/plain": [
       "<matplotlib.figure.Figure at 0x7faa28220828>"
      ]
     },
     "metadata": {},
     "output_type": "display_data"
    },
    {
     "data": {
      "image/png": "[encoded data removed]",
      "text/plain": [
       "<matplotlib.figure.Figure at 0x7faa28079630>"
      ]
     },
     "metadata": {},
     "output_type": "display_data"
    }
   ],
   "source": [
    "# explore the data set here\n",
    "num_records = bike.num_rows     # number of records is number of rows\n",
    "features = bike.labels\n",
    "print(num_records, ' records', ' with variables ', features)\n",
    "print('type for features', type(features))\n",
    "print(bike.hist('windspeed'))\n",
    "print(bike.hist('weekday'))\n",
    "    "
   ]
  },
  {
   "cell_type": "markdown",
   "metadata": {},
   "source": [
    "---\n",
    "## 1. The Test-Train-Validation Split  <a id='section 1'></a>"
   ]
  },
  {
   "cell_type": "markdown",
   "metadata": {},
   "source": [
    "When we train a model on a data set, we run the risk of [**over-fitting**](http://scikit-learn.org/stable/auto_examples/model_selection/plot_underfitting_overfitting.html). Over-fitting happens when a model becomes so complex that it makes very accurate predictions for the data it was trained on, but it can't generalize to make good predictions on new data.\n",
    "\n",
    "We can reduce the risk of overfitting by using a **test-train split**. \n",
    "\n",
    "1. Randomly divide our data set into two smaller sets: one for training and one for testing\n",
    "2. Train the data on the training set, changing our model along the way to increase accuracy\n",
    "3. Test the data's predictions using the test set.\n",
    "\n",
    "Scikit-learn's [`test_train_split`](http://scikit-learn.org/stable/modules/generated/sklearn.model_selection.train_test_split.html) function will help here. First, separate your data into two parts: a Table containing the features used to make our prediction, and an array of the true values. To start, let's predict the *total number of riders* (y) using *every feature that isn't a rider count* (X).\n",
    "\n",
    "Note: for the function to work, X can't be a Table. Save X as a pandas DataFrame by calling `.to_df()` on the feature Table."
   ]
  },
  {
   "cell_type": "code",
   "execution_count": 58,
   "metadata": {},
   "outputs": [
    {
     "name": "stdout",
     "output_type": "stream",
     "text": [
      "type X:  <class 'pandas.core.frame.DataFrame'>\n",
      "type y:  <class 'numpy.ndarray'>\n",
      "type funny_y:  <class 'numpy.ndarray'>\n"
     ]
    }
   ],
   "source": [
    "# the features used to predict riders\n",
    "# features_only = bike.select('dteday', 'season', 'yr', 'mnth', 'holiday', 'weekday',\n",
    "#                           'workingday', 'weathersit', 'temp', 'atemp', 'hum', 'windspeed')\n",
    "X = bike.drop('casual', 'registered', 'cnt')\n",
    "X = features_only.to_df()\n",
    "print('type X: ', type(X))\n",
    "# the number of riders\n",
    "y = bike['cnt']\n",
    "funny_y = bike.select('cnt').to_array()\n",
    "print('type y: ', type(y))\n",
    "print('type funny_y: ', type(funny_y))"
   ]
  },
  {
   "cell_type": "code",
   "execution_count": 59,
   "metadata": {},
   "outputs": [
    {
     "name": "stdout",
     "output_type": "stream",
     "text": [
      "[ 985  801 1349 1562]\n",
      "[( 985,) ( 801,) (1349,) (1562,)]\n"
     ]
    }
   ],
   "source": [
    "print(y[0:4])\n",
    "print(funny_y[0:4])"
   ]
  },
  {
   "cell_type": "markdown",
   "metadata": {},
   "source": [
    "Next, set the random seed using `np.random.seed(...)`. This will affect the way numpy pseudo-randomly generates the numbers it uses to decide how to split the data into training and test sets. Any seed number is fine- the important thing is to document the number you used in case we need to recreate this pseudorandom split in the future.\n",
    "\n",
    "Then, call `train_test_split` on your X and y. Also set the parameters `train_size=` and `test_size=` to set aside 80% of the data for training and 20% for testing."
   ]
  },
  {
   "cell_type": "code",
   "execution_count": 39,
   "metadata": {},
   "outputs": [
    {
     "name": "stdout",
     "output_type": "stream",
     "text": [
      "           season          yr        mnth     holiday     weekday  workingday  \\\n",
      "count  584.000000  584.000000  584.000000  584.000000  584.000000  584.000000   \n",
      "mean     2.484589    0.494863    6.522260    0.030822    3.001712    0.698630   \n",
      "std      1.115816    0.500402    3.484273    0.172983    1.980609    0.459246   \n",
      "min      1.000000    0.000000    1.000000    0.000000    0.000000    0.000000   \n",
      "25%      1.750000    0.000000    3.750000    0.000000    1.000000    0.000000   \n",
      "50%      2.000000    0.000000    6.000000    0.000000    3.000000    1.000000   \n",
      "75%      3.000000    1.000000   10.000000    0.000000    5.000000    1.000000   \n",
      "max      4.000000    1.000000   12.000000    1.000000    6.000000    1.000000   \n",
      "\n",
      "       weathersit        temp       atemp         hum   windspeed  \n",
      "count  584.000000  584.000000  584.000000  584.000000  584.000000  \n",
      "mean     1.410959    0.493904    0.473758    0.630331    0.189351  \n",
      "std      0.557761    0.180727    0.160824    0.145094    0.077628  \n",
      "min      1.000000    0.059130    0.079070    0.000000    0.022392  \n",
      "25%      1.000000    0.339375    0.337891    0.523958    0.133715  \n",
      "50%      1.000000    0.494167    0.482623    0.631667    0.179419  \n",
      "75%      2.000000    0.649375    0.603868    0.734583    0.232689  \n",
      "max      3.000000    0.848333    0.840896    0.972500    0.507463  \n",
      "           season         yr        mnth     holiday     weekday  workingday  \\\n",
      "count  147.000000  147.00000  147.000000  147.000000  147.000000  147.000000   \n",
      "mean     2.544218    0.52381    6.510204    0.020408    2.979592    0.625850   \n",
      "std      1.093137    0.50114    3.331805    0.141875    2.105015    0.485557   \n",
      "min      1.000000    0.00000    1.000000    0.000000    0.000000    0.000000   \n",
      "25%      2.000000    0.00000    4.000000    0.000000    1.000000    0.000000   \n",
      "50%      3.000000    1.00000    7.000000    0.000000    3.000000    1.000000   \n",
      "75%      3.000000    1.00000    9.000000    0.000000    5.000000    1.000000   \n",
      "max      4.000000    1.00000   12.000000    1.000000    6.000000    1.000000   \n",
      "\n",
      "       weathersit        temp       atemp         hum   windspeed  \n",
      "count  147.000000  147.000000  147.000000  147.000000  147.000000  \n",
      "mean     1.333333    0.501266    0.476723    0.618213    0.194998  \n",
      "std      0.487281    0.192534    0.171739    0.131328    0.077077  \n",
      "min      1.000000    0.134783    0.126275    0.254167    0.042304  \n",
      "25%      1.000000    0.334584    0.335214    0.506666    0.142732  \n",
      "50%      1.000000    0.521667    0.512621    0.618333    0.184087  \n",
      "75%      2.000000    0.685833    0.635425    0.719375    0.236631  \n",
      "max      3.000000    0.861667    0.804913    0.948261    0.422275  \n"
     ]
    }
   ],
   "source": [
    "# set the random seed\n",
    "\n",
    "np.random.seed(10)\n",
    "\n",
    "# split the data\n",
    "# train_test_split returns 4 values: X_train, X_test, y_train, y_test\n",
    "\n",
    "X_train, X_test, y_train, y_test = train_test_split(X,y, train_size=0.80, test_size=0.20)\n",
    "print(X_train.describe())\n",
    "print(X_test.describe())\n",
    "#print(y_train.describe())\n",
    "#print(y_test.describe())"
   ]
  },
  {
   "cell_type": "markdown",
   "metadata": {},
   "source": [
    "### The Validation Set\n",
    "\n",
    "Our test data should only be used once: after our model has been selected, trained, and tweaked. Unfortunately, it's possible that in the process of tweaking our model, we could still overfit it to the training data and only find out when we return a poor test data score. What then?\n",
    "\n",
    "A **validation set** can help here. By trying your trained models on a validation set, you can (hopefully) weed out models that don't generalize well.\n",
    "\n",
    "Call `train_test_split` again, this time on your X_train and y_train. We want to set aside 25% of the data to go to our validation set, and keep the remaining 75% for our training set.\n",
    "\n",
    "Note: This means that out of the original data, 20% is for testing, 20% is for validation, and 60% is for training."
   ]
  },
  {
   "cell_type": "code",
   "execution_count": 40,
   "metadata": {},
   "outputs": [
    {
     "name": "stdout",
     "output_type": "stream",
     "text": [
      "           season          yr        mnth     holiday     weekday  workingday  \\\n",
      "count  438.000000  438.000000  438.000000  438.000000  438.000000  438.000000   \n",
      "mean     2.490868    0.495434    6.541096    0.036530    2.984018    0.691781   \n",
      "std      1.129451    0.500551    3.489363    0.187819    1.970543    0.462286   \n",
      "min      1.000000    0.000000    1.000000    0.000000    0.000000    0.000000   \n",
      "25%      1.000000    0.000000    3.000000    0.000000    1.000000    0.000000   \n",
      "50%      2.000000    0.000000    7.000000    0.000000    3.000000    1.000000   \n",
      "75%      4.000000    1.000000   10.000000    0.000000    5.000000    1.000000   \n",
      "max      4.000000    1.000000   12.000000    1.000000    6.000000    1.000000   \n",
      "\n",
      "       weathersit        temp       atemp         hum   windspeed  \n",
      "count  438.000000  438.000000  438.000000  438.000000  438.000000  \n",
      "mean     1.413242    0.489599    0.469753    0.629119    0.189161  \n",
      "std      0.562365    0.180966    0.161208    0.148191    0.077852  \n",
      "min      1.000000    0.059130    0.079070    0.000000    0.046650  \n",
      "25%      1.000000    0.341875    0.337794    0.520521    0.131383  \n",
      "50%      1.000000    0.494167    0.481364    0.628333    0.179113  \n",
      "75%      2.000000    0.640416    0.596459    0.735570    0.230944  \n",
      "max      3.000000    0.838333    0.826371    0.972500    0.507463  \n",
      "           season          yr        mnth     holiday     weekday  workingday  \\\n",
      "count  146.000000  146.000000  146.000000  146.000000  146.000000  146.000000   \n",
      "mean     2.465753    0.493151    6.465753    0.013699    3.054795    0.719178   \n",
      "std      1.077445    0.501674    3.480318    0.116637    2.016418    0.450948   \n",
      "min      1.000000    0.000000    1.000000    0.000000    0.000000    0.000000   \n",
      "25%      2.000000    0.000000    4.000000    0.000000    1.000000    0.000000   \n",
      "50%      2.000000    0.000000    6.000000    0.000000    3.000000    1.000000   \n",
      "75%      3.000000    1.000000    9.000000    0.000000    5.000000    1.000000   \n",
      "max      4.000000    1.000000   12.000000    1.000000    6.000000    1.000000   \n",
      "\n",
      "       weathersit        temp       atemp         hum   windspeed  \n",
      "count  146.000000  146.000000  146.000000  146.000000  146.000000  \n",
      "mean     1.404110    0.506821    0.485770    0.633967    0.189919  \n",
      "std      0.545562    0.180009    0.159613    0.135802    0.077215  \n",
      "min      1.000000    0.107500    0.119337    0.290000    0.022392  \n",
      "25%      1.000000    0.330833    0.341046    0.534583    0.138688  \n",
      "50%      1.000000    0.492916    0.486532    0.637083    0.179723  \n",
      "75%      2.000000    0.668750    0.622808    0.730937    0.234612  \n",
      "max      3.000000    0.848333    0.840896    0.970417    0.417908  \n"
     ]
    }
   ],
   "source": [
    "# split the data\n",
    "# Returns 4 values: X_train, X_validate, y_train, y_validate\n",
    "\n",
    "X_train, X_validate, y_train, y_validate = train_test_split(X_train, y_train, train_size=0.75, test_size=0.25)\n",
    "print(X_train.describe())\n",
    "print(X_validate.describe())\n",
    "#print(y_train.describe())\n",
    "#print(y_validate.describe())"
   ]
  },
  {
   "cell_type": "markdown",
   "metadata": {},
   "source": [
    "## 2. Linear Regression (Ordinary Least Squares) <a id='section 2'></a>"
   ]
  },
  {
   "cell_type": "markdown",
   "metadata": {},
   "source": [
    "Now, we're ready to start training models and making predictions. We'll start with a **linear regression** model.\n",
    "\n",
    "[Scikit-learn's linear regression](http://scikit-learn.org/stable/modules/generated/sklearn.linear_model.LinearRegression.html#sklearn.linear_model.LinearRegression.score) is built around scipy's ordinary least squares, which you used in the last lab. The syntax for each scikit-learn model is very similar:\n",
    "1. Create a model by calling its constructor function. For example, `LinearRegression()` makes a linear regression model.\n",
    "2. Train the model on your training data by calling `.fit(train_X, train_y)` on the model\n",
    "\n",
    "Create a linear regression model in the cell below."
   ]
  },
  {
   "cell_type": "code",
   "execution_count": 41,
   "metadata": {},
   "outputs": [
    {
     "data": {
      "text/plain": [
       "LinearRegression(copy_X=True, fit_intercept=True, n_jobs=1, normalize=False)"
      ]
     },
     "execution_count": 41,
     "metadata": {},
     "output_type": "execute_result"
    }
   ],
   "source": [
    "# create a model\n",
    "linear_bike = LinearRegression()\n",
    "# fit the model\n",
    "linear_bike.fit(X_train, y_train)"
   ]
  },
  {
   "cell_type": "markdown",
   "metadata": {},
   "source": [
    "With the model fit, you can look at the best-fit slope for each feature using `.coef_`, and you can get the intercept of the regression line with `.intercept_`."
   ]
  },
  {
   "cell_type": "code",
   "execution_count": 42,
   "metadata": {},
   "outputs": [
    {
     "name": "stdout",
     "output_type": "stream",
     "text": [
      "coefficients:  [   -14.18033852    476.05152957   2074.99361806    391.42859423\n",
      "   -548.21392825     51.99824278     74.52205017   -654.9048012\n",
      "  -3639.09456149  10029.50716836   -548.30835199  -2204.11280459]\n",
      "intercept:  840.196713543\n"
     ]
    }
   ],
   "source": [
    "# examine the coefficients and intercept\n",
    "print('coefficients: ', linear_bike.coef_)\n",
    "print('intercept: ', linear_bike.intercept_)"
   ]
  },
  {
   "cell_type": "markdown",
   "metadata": {},
   "source": [
    "Now, let's get a sense of how good our model is. We can do this by looking at the difference between the predicted values and the actual values, also called the error.\n",
    "\n",
    "We can see this graphically using a scatter plot.\n",
    "\n",
    "- Call `.predict(X)` on your linear regression model, using your training X and training y, to return a list of predicted number of riders per hour. Save it to a variable `lin_pred`.\n",
    "- Using a scatter plot (`plt.scatter(...)`), plot the predicted values against the actual values (`y_train`)"
   ]
  },
  {
   "cell_type": "code",
   "execution_count": 43,
   "metadata": {},
   "outputs": [
    {
     "data": {
      "image/png": "[encoded data removed]",
      "text/plain": [
       "<matplotlib.figure.Figure at 0x7faa27fb1fd0>"
      ]
     },
     "metadata": {},
     "output_type": "display_data"
    }
   ],
   "source": [
    "# predict the number of riders\n",
    "lin_pred = linear_bike.predict(X_train)\n",
    "\n",
    "# plot the residuals on a scatter plot\n",
    "plt.scatter(y_train, lin_pred)\n",
    "plt.title('Linear Model (OLS)')\n",
    "plt.xlabel('actual value')\n",
    "plt.ylabel('predicted value')\n",
    "plt.show()"
   ]
  },
  {
   "cell_type": "markdown",
   "metadata": {},
   "source": [
    "Question: what should our scatter plot look like if our model was 100% accurate?"
   ]
  },
  {
   "cell_type": "markdown",
   "metadata": {},
   "source": [
    "**ANSWER:**     <br>\n",
    "If the model predicted perfectly, you would get a straight line. But the scatterplot shows that the prediction using all the features did a really good job of predicting the y value in the training data."
   ]
  },
  {
   "cell_type": "markdown",
   "metadata": {},
   "source": [
    "We can also get a sense of how well our model is doing by calculating the **root mean squared error**. The root mean squared error (RMSE) represents the average difference between the predicted and the actual values.\n",
    "\n",
    "To get the RMSE:\n",
    "- subtract each predicted value from its corresponding actual value (the errors)\n",
    "- square each error (this prevents negative errors from cancelling positive errors)\n",
    "- average the squared errors\n",
    "- take the square root of the average (this gets the error back in the original units)\n",
    "\n",
    "Write a function `rmse` that calculates the mean squared error of a predicted set of values."
   ]
  },
  {
   "cell_type": "code",
   "execution_count": 44,
   "metadata": {},
   "outputs": [
    {
     "data": {
      "text/plain": [
       "854.54794094312149"
      ]
     },
     "execution_count": 44,
     "metadata": {},
     "output_type": "execute_result"
    }
   ],
   "source": [
    "# getting root mean squared error from training data\n",
    "def rmse(pred, actual):\n",
    "       return np.sqrt(np.mean((actual-pred)**2))\n",
    "\n",
    "rmse(lin_pred, y_train)"
   ]
  },
  {
   "cell_type": "markdown",
   "metadata": {},
   "source": [
    "Now calculate the mean squared error for your linear model."
   ]
  },
  {
   "cell_type": "code",
   "execution_count": 45,
   "metadata": {},
   "outputs": [
    {
     "data": {
      "text/plain": [
       "854.54794094312149"
      ]
     },
     "execution_count": 45,
     "metadata": {},
     "output_type": "execute_result"
    }
   ],
   "source": [
    "# calculate the rmse\n",
    "rmse(lin_pred, y_train)"
   ]
  },
  {
   "cell_type": "markdown",
   "metadata": {},
   "source": [
    "## 3. Ridge Regression <a id='section 3'></a>"
   ]
  },
  {
   "cell_type": "markdown",
   "metadata": {},
   "source": [
    "Now that you've gone through the process for OLS linear regression, it's easy to do the same for [**Ridge Regression**](http://scikit-learn.org/stable/modules/generated/sklearn.linear_model.Ridge.html). In this case, the constructor function that makes the model is `Ridge()`."
   ]
  },
  {
   "cell_type": "code",
   "execution_count": 46,
   "metadata": {},
   "outputs": [
    {
     "name": "stdout",
     "output_type": "stream",
     "text": [
      "coefficients:  [  -14.91958028   496.97111616  2081.51679899   414.07161383  -539.31004013\n",
      "    51.08326359   104.94330809  -735.43901476  2515.00009874  2801.99220848\n",
      "  -196.36680256 -1704.02122118]\n",
      "intercept:  934.026987148\n"
     ]
    }
   ],
   "source": [
    "# make and fit a Ridge regression model\n",
    "ridge_bike = Ridge()\n",
    "ridge_bike.fit(X_train, y_train)\n",
    "\n",
    "# show the coefficients and intercept for the ridge regression model\n",
    "print('coefficients: ', ridge_bike.coef_)\n",
    "print('intercept: ', ridge_bike.intercept_)"
   ]
  },
  {
   "cell_type": "code",
   "execution_count": 47,
   "metadata": {},
   "outputs": [
    {
     "data": {
      "image/png": "[encoded data removed]",
      "text/plain": [
       "<matplotlib.figure.Figure at 0x7faa28172940>"
      ]
     },
     "metadata": {},
     "output_type": "display_data"
    }
   ],
   "source": [
    "# use the model to make predictions\n",
    "ridge_pred = ridge_bike.predict(X_train)\n",
    "\n",
    "# plot the predictions\n",
    "plt.scatter(y_train, ridge_pred)\n",
    "plt.title('Ridge Regression Model')\n",
    "plt.xlabel('actual value')\n",
    "plt.ylabel('predicted value')\n",
    "plt.show()"
   ]
  },
  {
   "cell_type": "code",
   "execution_count": 48,
   "metadata": {},
   "outputs": [
    {
     "data": {
      "text/plain": [
       "862.00187963182793"
      ]
     },
     "execution_count": 48,
     "metadata": {},
     "output_type": "execute_result"
    }
   ],
   "source": [
    "# calculate the rmse for the Ridge model\n",
    "rmse(ridge_pred, y_train)"
   ]
  },
  {
   "cell_type": "markdown",
   "metadata": {},
   "source": [
    "Note: the documentation for Ridge regression shows it has lots of **hyperparameters**: values we can choose when the model is made. Now that we've tried it using the defaults, look at the [documentation](http://scikit-learn.org/stable/modules/generated/sklearn.linear_model.Ridge.html) and try changing some parameters to see if you can get a lower RMSE (`alpha` might be a good one to try)."
   ]
  },
  {
   "cell_type": "code",
   "execution_count": 49,
   "metadata": {},
   "outputs": [
    {
     "name": "stdout",
     "output_type": "stream",
     "text": [
      "coefficients:  [  -14.87920435   488.14185941  2087.7848089    413.23235762  -552.86892648\n",
      "    50.94362947    97.45489217  -716.35123096  2335.44266661  3127.68746729\n",
      "  -298.79522755 -1996.57198046]\n",
      "intercept:  984.785632621\n"
     ]
    },
    {
     "data": {
      "image/png": "[encoded data removed]",
      "text/plain": [
       "<matplotlib.figure.Figure at 0x7faa2821b390>"
      ]
     },
     "metadata": {},
     "output_type": "display_data"
    },
    {
     "name": "stdout",
     "output_type": "stream",
     "text": [
      "new ridge regression model mean sq error:  859.896047723\n"
     ]
    }
   ],
   "source": [
    "# make and fit a new Ridge regression model\n",
    "newridge_bike = Ridge(alpha=0.5)\n",
    "newridge_bike.fit(X_train, y_train)\n",
    "\n",
    "# show the coefficients and intercept for the ridge regression model\n",
    "print('coefficients: ', newridge_bike.coef_)\n",
    "print('intercept: ', newridge_bike.intercept_)\n",
    "\n",
    "# use the model to make predictions\n",
    "newridge_pred = newridge_bike.predict(X_train)\n",
    "\n",
    "# plot the predictions\n",
    "plt.scatter(y_train, newridge_pred)\n",
    "plt.title('New Ridge Regression Model')\n",
    "plt.xlabel('actual value')\n",
    "plt.ylabel('predicted value')\n",
    "plt.show()\n",
    "\n",
    "# calculate root mean square error\n",
    "print('new ridge regression model mean sq error: ',rmse(newridge_pred, y_train))"
   ]
  },
  {
   "cell_type": "code",
   "execution_count": 50,
   "metadata": {},
   "outputs": [
    {
     "data": {
      "text/plain": [
       "numpy.ndarray"
      ]
     },
     "execution_count": 50,
     "metadata": {},
     "output_type": "execute_result"
    }
   ],
   "source": [
    "type(newridge_pred)"
   ]
  },
  {
   "cell_type": "markdown",
   "metadata": {},
   "source": [
    "## 4. LASSO Regression <a id='section 4'></a>"
   ]
  },
  {
   "cell_type": "markdown",
   "metadata": {},
   "source": [
    "Finally, we'll try using [LASSO regression](http://scikit-learn.org/stable/modules/generated/sklearn.linear_model.Lasso.html). The constructor function to make the model is `Lasso()`. \n",
    "\n",
    "You may get a warning message saying the objective did not converge. The model will still work, but to get convergence try increasing the number of iterations (`max_iter=`) when you construct the model.\n"
   ]
  },
  {
   "cell_type": "code",
   "execution_count": 51,
   "metadata": {},
   "outputs": [
    {
     "name": "stdout",
     "output_type": "stream",
     "text": [
      "coefficients:  [  -14.374635     478.23841549  2085.08986797   397.96528198  -534.05674398\n",
      "    51.36262459    83.99312548  -693.05945409     0.          5875.24692485\n",
      "  -366.54535524 -2122.28587487]\n",
      "intercept:  911.438164905\n"
     ]
    }
   ],
   "source": [
    "# create and fit the LASSO model\n",
    "lasso_bike = Lasso(max_iter=10000)\n",
    "lasso_bike.fit(X_train, y_train)\n",
    "\n",
    "# show the coefficients and intercept for the ridge regression model\n",
    "print('coefficients: ', lasso_bike.coef_)\n",
    "print('intercept: ', lasso_bike.intercept_)\n"
   ]
  },
  {
   "cell_type": "code",
   "execution_count": 52,
   "metadata": {},
   "outputs": [
    {
     "data": {
      "image/png": "[encoded data removed]",
      "text/plain": [
       "<matplotlib.figure.Figure at 0x7faa28b19c88>"
      ]
     },
     "metadata": {},
     "output_type": "display_data"
    }
   ],
   "source": [
    "# use the model to make predictions\n",
    "lasso_pred = lasso_bike.predict(X_train)\n",
    "\n",
    "# plot the predictions\n",
    "plt.scatter(y_train, lasso_pred)\n",
    "plt.title('Lasso Regression Model')\n",
    "plt.xlabel('actual value')\n",
    "plt.ylabel('predicted value')\n",
    "plt.show()"
   ]
  },
  {
   "cell_type": "code",
   "execution_count": 53,
   "metadata": {},
   "outputs": [
    {
     "name": "stdout",
     "output_type": "stream",
     "text": [
      "type lasso_pred <class 'numpy.ndarray'>\n",
      "type y_train <class 'numpy.ndarray'>\n"
     ]
    },
    {
     "data": {
      "text/plain": [
       "856.4246870534422"
      ]
     },
     "execution_count": 53,
     "metadata": {},
     "output_type": "execute_result"
    }
   ],
   "source": [
    "# calculate the rmse for the LASSO model\n",
    "print('type lasso_pred', type(lasso_pred))\n",
    "print('type y_train', type(y_train))\n",
    "#lasso_pred_df = pd.DataFrame(lasso_pred)\n",
    "# y_train_array = pd.DataFrame(y_train).as_matrix()\n",
    "#print(lasso_pred_df.describe())\n",
    "rmse(lasso_pred, y_train) # why did I have to turn y_train from dataframe into numpy array? \n",
    "## because of the way I got the y values out of the original datascience Table\n",
    "# why was my rmse so different from solution set?"
   ]
  },
  {
   "cell_type": "markdown",
   "metadata": {},
   "source": [
    "Note: LASSO regression also has many tweakable hyperparameters. See how changing them affects the accuracy!\n",
    "\n",
    "Question: How do these three models compare on performance? What sorts of things could we do to improve performance?"
   ]
  },
  {
   "cell_type": "markdown",
   "metadata": {},
   "source": [
    "**ANSWER:** They perform pretty similarly, if root mean square error is the measure of performance. But they all perform similarly, except Lasso seems to have a larger rmse without tweaking the parameters. That may improve the performance of Lasso model. The linear model seems just fine.\n"
   ]
  },
  {
   "cell_type": "markdown",
   "metadata": {},
   "source": [
    "---\n",
    "## 5.  Choosing a model <a id='section 5'></a>\n",
    "### Validation"
   ]
  },
  {
   "cell_type": "markdown",
   "metadata": {},
   "source": [
    "Once you've tweaked your models' hyperparameters to get the best possible accuracy on your training sets, we can compare your models on your validation set. Make predictions on `X_validate` with each one of your models, then calculate the RMSE for each set of predictions."
   ]
  },
  {
   "cell_type": "code",
   "execution_count": 54,
   "metadata": {},
   "outputs": [
    {
     "data": {
      "image/png": "[encoded data removed]",
      "text/plain": [
       "<matplotlib.figure.Figure at 0x7faa2817ee10>"
      ]
     },
     "metadata": {},
     "output_type": "display_data"
    },
    {
     "name": "stdout",
     "output_type": "stream",
     "text": [
      "None\n"
     ]
    },
    {
     "data": {
      "image/png": "[encoded data removed]",
      "text/plain": [
       "<matplotlib.figure.Figure at 0x7faa284d1320>"
      ]
     },
     "metadata": {},
     "output_type": "display_data"
    },
    {
     "name": "stdout",
     "output_type": "stream",
     "text": [
      "None\n"
     ]
    },
    {
     "data": {
      "image/png": "[encoded data removed]",
      "text/plain": [
       "<matplotlib.figure.Figure at 0x7faa28b7dfd0>"
      ]
     },
     "metadata": {},
     "output_type": "display_data"
    },
    {
     "name": "stdout",
     "output_type": "stream",
     "text": [
      "None\n"
     ]
    }
   ],
   "source": [
    "# make predictions for each model using validation data\n",
    "\n",
    "# linear prediction of number of riders on validation set\n",
    "lin_pred_v = linear_bike.predict(X_validate)\n",
    "# plot the predictions on a scatter plot\n",
    "plt.scatter(y_validate, lin_pred_v)\n",
    "plt.title('Linear Model (OLS) Validation Set')\n",
    "plt.xlabel('actual value')\n",
    "plt.ylabel('predicted value')\n",
    "print(plt.show())\n",
    "\n",
    "# ridge prediction of number of riders on validation set\n",
    "ridge_pred_v = ridge_bike.predict(X_validate)\n",
    "# plot the predictions\n",
    "plt.scatter(y_validate, ridge_pred_v)\n",
    "plt.title('Ridge Regression Model Validation Set')\n",
    "plt.xlabel('actual value')\n",
    "plt.ylabel('predicted value')\n",
    "print(plt.show())\n",
    "\n",
    "# lasso\n",
    "lasso_pred_v = lasso_bike.predict(X_validate)\n",
    "# plot the predictions\n",
    "plt.scatter(y_validate, lasso_pred_v)\n",
    "plt.title('Lasso Regression Model Validation Set')\n",
    "plt.xlabel('actual value')\n",
    "plt.ylabel('predicted value')\n",
    "print(plt.show())\n"
   ]
  },
  {
   "cell_type": "code",
   "execution_count": 55,
   "metadata": {},
   "outputs": [
    {
     "name": "stdout",
     "output_type": "stream",
     "text": [
      "rmse linear model:  851.143241027\n",
      "rmse ridge model:  850.120677097\n",
      "<class 'numpy.ndarray'>\n",
      "rmse lasso model:  847.682299945\n"
     ]
    }
   ],
   "source": [
    "# calculate RMSE for each set of validation predictions\n",
    "print('rmse linear model: ', rmse(lin_pred_v, y_validate))\n",
    "print('rmse ridge model: ', rmse(ridge_pred_v, y_validate))\n",
    "# y_validate_array = pd.DataFrame(y_validate).as_matrix()\n",
    "print(type(y_validate))\n",
    "print('rmse lasso model: ', rmse(lasso_pred_v, y_validate))\n",
    "# same problem here; have to change y_validate data type and then get a much bigger standard erro"
   ]
  },
  {
   "cell_type": "markdown",
   "metadata": {},
   "source": [
    "How do the RMSEs for the validation data compare to those for the training data? Why?\n",
    "They look like they did a little better, actually, on the validation data. That strikes me as odd unless regularization really matters that much\n",
    "\n",
    "Did the model that performed best on the training set also do best on the validation set? No, Lasso has the lowest rmse on the validation set but linear did on the training set"
   ]
  },
  {
   "cell_type": "markdown",
   "metadata": {},
   "source": [
    "**YOUR ANSWER:** "
   ]
  },
  {
   "cell_type": "markdown",
   "metadata": {},
   "source": [
    "### Predicting the Test Set"
   ]
  },
  {
   "cell_type": "markdown",
   "metadata": {},
   "source": [
    "Finally, select one final model to make predictions for your test set. This is often the model that performed best on the validation data."
   ]
  },
  {
   "cell_type": "code",
   "execution_count": 56,
   "metadata": {},
   "outputs": [
    {
     "data": {
      "image/png": "[encoded data removed]",
      "text/plain": [
       "<matplotlib.figure.Figure at 0x7faa283a3d68>"
      ]
     },
     "metadata": {},
     "output_type": "display_data"
    },
    {
     "name": "stdout",
     "output_type": "stream",
     "text": [
      "None\n",
      "rmse lasso model test data:  929.172979234\n"
     ]
    }
   ],
   "source": [
    "# make predictions for the test set using one model of your choice\n",
    "# lasso\n",
    "lasso_pred_t = lasso_bike.predict(X_test)\n",
    "# plot the predictions\n",
    "plt.scatter(y_test, lasso_pred_t)\n",
    "plt.title('Lasso Regression Model Validation Set')\n",
    "plt.xlabel('actual value')\n",
    "plt.ylabel('predicted value')\n",
    "print(plt.show())\n",
    "\n",
    "# calculate the rmse for the final predictions\n",
    "print('rmse lasso model test data: ', rmse(lasso_pred_t, y_test))"
   ]
  },
  {
   "cell_type": "markdown",
   "metadata": {},
   "source": [
    "Coming up this semester: how to select your models, model parameters, and features to get the best performance."
   ]
  },
  {
   "cell_type": "markdown",
   "metadata": {},
   "source": [
    "---\n",
    "Notebook developed by: Keeley Takimoto\n",
    "\n",
    "Data Science Modules: http://data.berkeley.edu/education/modules\n"
   ]
  }
 ],
 "metadata": {
  "anaconda-cloud": {},
  "kernelspec": {
   "display_name": "Python 3",
   "language": "python",
   "name": "python3"
  },
  "language_info": {
   "codemirror_mode": {
    "name": "ipython",
    "version": 3
   },
   "file_extension": ".py",
   "mimetype": "text/x-python",
   "name": "python",
   "nbconvert_exporter": "python",
   "pygments_lexer": "ipython3",
   "version": "3.6.1"
  }
 },
 "nbformat": 4,
 "nbformat_minor": 1
}
