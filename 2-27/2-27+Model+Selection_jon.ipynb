{
 "cells": [
  {
   "cell_type": "markdown",
   "metadata": {},
   "source": [
    "# 2-27: Intro to Model Selection Techniques\n",
    "\n",
    "\n",
    "---\n",
    "<img src = \"http://izquotes.com/quotes-pictures/quote-essentially-all-models-are-wrong-but-some-are-useful-george-e-p-box-212711.jpg\" style = \"width: 500px; height: 275px;\" />\n",
    "\n",
    "**Model Selection** is a key step in the machine learning process. Generally, you will have several candidate models that you fit to your data, and must select the one that you will use on out-of-sample data. These techniques help you determine which model is the \"best.\"\n",
    "\n",
    "*Estimated Time: 30 minutes*\n",
    "\n",
    "---\n",
    "\n",
    "**Dependencies:**"
   ]
  },
  {
   "cell_type": "code",
   "execution_count": 1,
   "metadata": {},
   "outputs": [],
   "source": [
    "import numpy as np\n",
    "import scipy\n",
    "from datascience import *\n",
    "import datetime as dt\n",
    "import pandas as pd\n",
    "import matplotlib.pyplot as plt\n",
    "%matplotlib inline\n",
    "from sklearn.model_selection import train_test_split\n",
    "from sklearn.linear_model import Ridge, Lasso, LinearRegression\n",
    "from sklearn.model_selection import KFold\n",
    "from sklearn.model_selection import cross_val_score\n",
    "from sklearn.model_selection import cross_val_predict\n",
    "from sklearn.metrics import r2_score"
   ]
  },
  {
   "cell_type": "markdown",
   "metadata": {},
   "source": [
    "## The Data: Bike Sharing"
   ]
  },
  {
   "cell_type": "markdown",
   "metadata": {},
   "source": [
    "We'll be using the same bike sharing data as last week!"
   ]
  },
  {
   "cell_type": "code",
   "execution_count": 2,
   "metadata": {},
   "outputs": [
    {
     "data": {
      "text/html": [
       "<table border=\"1\" class=\"dataframe\">\n",
       "    <thead>\n",
       "        <tr>\n",
       "            <th>dteday</th> <th>season</th> <th>yr</th> <th>mnth</th> <th>holiday</th> <th>weekday</th> <th>workingday</th> <th>weathersit</th> <th>temp</th> <th>atemp</th> <th>hum</th> <th>windspeed</th> <th>casual</th> <th>registered</th> <th>cnt</th>\n",
       "        </tr>\n",
       "    </thead>\n",
       "    <tbody>\n",
       "        <tr>\n",
       "            <td>001   </td> <td>1     </td> <td>0   </td> <td>1   </td> <td>0      </td> <td>6      </td> <td>0         </td> <td>2         </td> <td>0.344167</td> <td>0.363625</td> <td>0.805833</td> <td>0.160446 </td> <td>331   </td> <td>654       </td> <td>985 </td>\n",
       "        </tr>\n",
       "    </tbody>\n",
       "        <tr>\n",
       "            <td>002   </td> <td>1     </td> <td>0   </td> <td>1   </td> <td>0      </td> <td>0      </td> <td>0         </td> <td>2         </td> <td>0.363478</td> <td>0.353739</td> <td>0.696087</td> <td>0.248539 </td> <td>131   </td> <td>670       </td> <td>801 </td>\n",
       "        </tr>\n",
       "    </tbody>\n",
       "        <tr>\n",
       "            <td>003   </td> <td>1     </td> <td>0   </td> <td>1   </td> <td>0      </td> <td>1      </td> <td>1         </td> <td>1         </td> <td>0.196364</td> <td>0.189405</td> <td>0.437273</td> <td>0.248309 </td> <td>120   </td> <td>1229      </td> <td>1349</td>\n",
       "        </tr>\n",
       "    </tbody>\n",
       "        <tr>\n",
       "            <td>004   </td> <td>1     </td> <td>0   </td> <td>1   </td> <td>0      </td> <td>2      </td> <td>1         </td> <td>1         </td> <td>0.2     </td> <td>0.212122</td> <td>0.590435</td> <td>0.160296 </td> <td>108   </td> <td>1454      </td> <td>1562</td>\n",
       "        </tr>\n",
       "    </tbody>\n",
       "</table>\n",
       "<p>... (727 rows omitted)</p>"
      ],
      "text/plain": [
       "<IPython.core.display.HTML object>"
      ]
     },
     "metadata": {},
     "output_type": "display_data"
    }
   ],
   "source": [
    "bike=Table().read_table(('data/Bike-Sharing-Dataset/day.csv'))\n",
    "\n",
    "# reformat the date column to integers representing the day of the year, 001-366\n",
    "bike['dteday'] = pd.to_datetime(bike['dteday']).strftime('%j')\n",
    "\n",
    "# get rid of the index column\n",
    "bike = bike.drop(0)\n",
    "\n",
    "bike.show(4)"
   ]
  },
  {
   "cell_type": "markdown",
   "metadata": {},
   "source": [
    "## 1. Test-Train-Validation Split"
   ]
  },
  {
   "cell_type": "markdown",
   "metadata": {},
   "source": [
    "Recall that we typically want to split our data into training, validation, and test sets for the purposes of developing and tweaking our Machine Learning models. Below we reproduce the code from last lab:"
   ]
  },
  {
   "cell_type": "code",
   "execution_count": 3,
   "metadata": {},
   "outputs": [],
   "source": [
    "# the features used to predict riders\n",
    "X = bike.drop('casual', 'registered', 'cnt')\n",
    "X = X.to_df()\n",
    "\n",
    "# the number of riders\n",
    "y = bike['cnt']\n",
    "\n",
    "# set the random seed\n",
    "\n",
    "np.random.seed(10)\n",
    "\n",
    "# split the data\n",
    "# train_test_split returns 4 values: X_train, X_test, y_train, y_test\n",
    "\n",
    "X_train, X_test, y_train, y_test = train_test_split(X, y,\n",
    "                                                    train_size=0.80, test_size=0.20)\n",
    "\n",
    "# split the data\n",
    "# Returns 4 values: X_train, X_validate, y_train, y_validate\n",
    "\n",
    "X_train, X_validate, y_train, y_validate = train_test_split(X_train, y_train,\n",
    "                                                    train_size=0.75, test_size=0.25)"
   ]
  },
  {
   "cell_type": "markdown",
   "metadata": {},
   "source": [
    "## 2. Specify Regression Models"
   ]
  },
  {
   "cell_type": "markdown",
   "metadata": {},
   "source": [
    "Specify the linear regression, ridge, and lasso models that we explored in the last labs on the training data. This time you don't need to report the coefficients or plot the results."
   ]
  },
  {
   "cell_type": "code",
   "execution_count": 4,
   "metadata": {},
   "outputs": [],
   "source": [
    "# Linear Regression\n",
    "## Create lin_reg method and fit model\n",
    "lin_reg = LinearRegression(normalize=True)\n",
    "lin_model = lin_reg.fit(X_train, y_train)\n",
    "\n",
    "# Ridge\n",
    "## Create ridge_reg method and fit model\n",
    "ridge_reg = Ridge()\n",
    "ridge_model = ridge_reg.fit(X_train, y_train)\n",
    "\n",
    "# LASSO\n",
    "## Create lasso_reg and fit\n",
    "lasso_reg = Lasso(max_iter=10000)\n",
    "lasso_model = lasso_reg.fit(X_train, y_train)\n"
   ]
  },
  {
   "cell_type": "markdown",
   "metadata": {},
   "source": [
    "## 3. Information Criterion Approaches"
   ]
  },
  {
   "cell_type": "markdown",
   "metadata": {},
   "source": [
    "We now have three candidate models! First, let's implement the AIC and BIC approaches. Write code that calculates the AIC and BIC for each of the models. The (simplified) formulas for each are: \n",
    "\n",
    "$AIC = 2k - 2ln(sse)$\n",
    "\n",
    "$BIC = n*ln(sse/n) + k*ln(n)$\n",
    "\n",
    "Where $k$ is the number of features, $n$ is the number of observations, $ln$ is the natural log (hint: use np.log), and sse is the \"sum of squared errors\" or the squared residuals between the predicted and actual responses."
   ]
  },
  {
   "cell_type": "code",
   "execution_count": 5,
   "metadata": {},
   "outputs": [
    {
     "data": {
      "text/plain": [
       "12"
      ]
     },
     "execution_count": 5,
     "metadata": {},
     "output_type": "execute_result"
    }
   ],
   "source": [
    "len(X_train.columns)"
   ]
  },
  {
   "cell_type": "code",
   "execution_count": 6,
   "metadata": {},
   "outputs": [
    {
     "data": {
      "text/plain": [
       "438"
      ]
     },
     "execution_count": 6,
     "metadata": {},
     "output_type": "execute_result"
    }
   ],
   "source": [
    "len(X_train.index)"
   ]
  },
  {
   "cell_type": "code",
   "execution_count": 7,
   "metadata": {},
   "outputs": [],
   "source": [
    "# Columns\n",
    "k = 12\n",
    "# Rows\n",
    "n = 438"
   ]
  },
  {
   "cell_type": "code",
   "execution_count": 8,
   "metadata": {},
   "outputs": [
    {
     "data": {
      "text/plain": [
       "-15.166728241032025"
      ]
     },
     "execution_count": 8,
     "metadata": {},
     "output_type": "execute_result"
    }
   ],
   "source": [
    "lin_reg_hat = lin_reg.predict(X_train)\n",
    "lin_reg_resid = y_train - lin_reg_hat\n",
    "# print(type(lin_reg_resid), 'lin_reg_resid: ', lin_reg_resid)\n",
    "lin_reg_sse = np.sum(np.square(lin_reg_resid))\n",
    "\n",
    "lin_AIC = 2*k-2*np.log(lin_reg_sse)\n",
    "lin_AIC"
   ]
  },
  {
   "cell_type": "code",
   "execution_count": 9,
   "metadata": {},
   "outputs": [
    {
     "data": {
      "text/plain": [
       "-15.201467625587611"
      ]
     },
     "execution_count": 9,
     "metadata": {},
     "output_type": "execute_result"
    }
   ],
   "source": [
    "ridge_reg_hat = ridge_reg.predict(X_train)\n",
    "ridge_reg_resid = y_train - ridge_reg_hat\n",
    "ridge_reg_sse = np.sum(np.square(ridge_reg_resid))\n",
    "\n",
    "ridge_AIC = 2*k - 2*np.log(ridge_reg_sse)\n",
    "ridge_AIC"
   ]
  },
  {
   "cell_type": "code",
   "execution_count": 10,
   "metadata": {},
   "outputs": [
    {
     "data": {
      "text/plain": [
       "-15.17550335213452"
      ]
     },
     "execution_count": 10,
     "metadata": {},
     "output_type": "execute_result"
    }
   ],
   "source": [
    "lasso_reg_hat = lasso_reg.predict(X_train)\n",
    "lasso_reg_resid = y_train - lasso_reg_hat\n",
    "lasso_reg_sse = np.sum(np.square(lasso_reg_resid))\n",
    "\n",
    "lasso_AIC = 2*k - 2*np.log(lasso_reg_sse)\n",
    "lasso_AIC"
   ]
  },
  {
   "cell_type": "markdown",
   "metadata": {},
   "source": [
    "Which model should we prefer based on the AIC? How confident are you about this choice?<p> <b>The models seem very close in the amount of information loss as measured by AIC, but linear shows the least."
   ]
  },
  {
   "cell_type": "markdown",
   "metadata": {},
   "source": []
  },
  {
   "cell_type": "markdown",
   "metadata": {},
   "source": [
    "Next, calculate the BIC for each model."
   ]
  },
  {
   "cell_type": "code",
   "execution_count": 11,
   "metadata": {},
   "outputs": [
    {
     "data": {
      "text/plain": [
       "5986.4882289656471"
      ]
     },
     "execution_count": 11,
     "metadata": {},
     "output_type": "execute_result"
    }
   ],
   "source": [
    "lin_BIC = n*np.log(lin_reg_sse/n) + k*np.log(n)\n",
    "lin_BIC"
   ]
  },
  {
   "cell_type": "code",
   "execution_count": 12,
   "metadata": {},
   "outputs": [
    {
     "data": {
      "text/plain": [
       "5994.0961541833212"
      ]
     },
     "execution_count": 12,
     "metadata": {},
     "output_type": "execute_result"
    }
   ],
   "source": [
    "ridge_BIC = n*np.log(ridge_reg_sse/n) + k*np.log(n)\n",
    "ridge_BIC"
   ]
  },
  {
   "cell_type": "code",
   "execution_count": 13,
   "metadata": {},
   "outputs": [
    {
     "data": {
      "text/plain": [
       "5988.4099782970934"
      ]
     },
     "execution_count": 13,
     "metadata": {},
     "output_type": "execute_result"
    }
   ],
   "source": [
    "lasso_BIC = n*np.log(lasso_reg_sse/n) + k*np.log(n)\n",
    "lasso_BIC"
   ]
  },
  {
   "cell_type": "markdown",
   "metadata": {},
   "source": [
    "Which model should you prefer based on the BIC? Again, how confident are you about this choice?<b>\n",
    "    The Bayes Info Criteria measure again looks really close but is smallest for the linear model, but the measures seem really close."
   ]
  },
  {
   "cell_type": "markdown",
   "metadata": {},
   "source": []
  },
  {
   "cell_type": "markdown",
   "metadata": {},
   "source": [
    "## 4. Cross-Validation"
   ]
  },
  {
   "cell_type": "markdown",
   "metadata": {},
   "source": [
    "Next, let's try a cross-validation approach. The basic logic of cross-validation is as follows:\n",
    "\n",
    "1. Randomly split the data into k-folds\n",
    "2. Build the model on k-1 folds, then test on the last fold\n",
    "3. Record prediction error\n",
    "4. Cycle until each fold has served as the test set\n",
    "5. The average of the errors is the cv-error\n",
    "\n",
    "Luckily a lot of this functionality is already packaged up for us in sklearn's [cross-validation methods](http://scikit-learn.org/stable/modules/cross_validation.html). First, generate predictions for each of the models by using \"cross_val_predict.\" Use \"cv = 3\" and return the r^2 score, and plot the predicted vs. actual values. For this section, disregard the train-validation-split you did earlier, and instead use the full data."
   ]
  },
  {
   "cell_type": "code",
   "execution_count": 14,
   "metadata": {},
   "outputs": [
    {
     "name": "stdout",
     "output_type": "stream",
     "text": [
      "lin_predicted data type:  <class 'numpy.ndarray'>\n"
     ]
    },
    {
     "data": {
      "text/plain": [
       "0.75304714529651584"
      ]
     },
     "execution_count": 14,
     "metadata": {},
     "output_type": "execute_result"
    }
   ],
   "source": [
    "lin_predicted = cross_val_predict(lin_reg,X,y,cv=3)\n",
    "print('lin_predicted data type: ', type(lin_predicted))\n",
    "r2_score(y,lin_predicted)"
   ]
  },
  {
   "cell_type": "code",
   "execution_count": 15,
   "metadata": {},
   "outputs": [
    {
     "data": {
      "image/png": "[encoded data removed]",
      "text/plain": [
       "<matplotlib.figure.Figure at 0x7f26394dc2e8>"
      ]
     },
     "metadata": {},
     "output_type": "display_data"
    }
   ],
   "source": [
    "# plot the residuals on a scatter plot\n",
    "plt.scatter(y,lin_predicted)\n",
    "plt.title('Linear Model (OLS)')\n",
    "plt.xlabel('actual value')\n",
    "plt.ylabel('predicted value')\n",
    "plt.show()"
   ]
  },
  {
   "cell_type": "code",
   "execution_count": 16,
   "metadata": {},
   "outputs": [
    {
     "data": {
      "text/plain": [
       "0.75866211014885698"
      ]
     },
     "execution_count": 16,
     "metadata": {},
     "output_type": "execute_result"
    }
   ],
   "source": [
    "ridge_predicted = cross_val_predict(ridge_reg,X,y,cv=3)\n",
    "r2_score(y,ridge_predicted)"
   ]
  },
  {
   "cell_type": "code",
   "execution_count": 17,
   "metadata": {},
   "outputs": [
    {
     "data": {
      "image/png": "[encoded data removed]",
      "text/plain": [
       "<matplotlib.figure.Figure at 0x7f26394000f0>"
      ]
     },
     "metadata": {},
     "output_type": "display_data"
    }
   ],
   "source": [
    "# plot the residuals on a scatter plot\n",
    "plt.scatter(y,ridge_predicted)\n",
    "plt.title('Linear Model (OLS)')\n",
    "plt.xlabel('actual value')\n",
    "plt.ylabel('predicted value')\n",
    "plt.show()"
   ]
  },
  {
   "cell_type": "code",
   "execution_count": 18,
   "metadata": {},
   "outputs": [
    {
     "data": {
      "text/plain": [
       "0.75386972409571995"
      ]
     },
     "execution_count": 18,
     "metadata": {},
     "output_type": "execute_result"
    }
   ],
   "source": [
    "lasso_predicted = cross_val_predict(lasso_reg,X,y,cv=3)\n",
    "r2_score(y,lasso_predicted)\n"
   ]
  },
  {
   "cell_type": "code",
   "execution_count": 19,
   "metadata": {},
   "outputs": [
    {
     "data": {
      "image/png": "[encoded data removed]",
      "text/plain": [
       "<matplotlib.figure.Figure at 0x7f2633bafa58>"
      ]
     },
     "metadata": {},
     "output_type": "display_data"
    }
   ],
   "source": [
    "# plot the residuals on a scatter plot\n",
    "plt.scatter(y,lasso_predicted)\n",
    "plt.title('Linear Model (OLS)')\n",
    "plt.xlabel('actual value')\n",
    "plt.ylabel('predicted value')\n",
    "plt.show()"
   ]
  },
  {
   "cell_type": "markdown",
   "metadata": {},
   "source": [
    "How well does cross-validation fit the data? <p><b> Really quite well.</b><p>\n",
    "    \n",
    "In general, explicitly calculating $r^2$ like this tends to overfit the data. The preferred method is to use \"cross_val_score.\" Use \"cross_val_score\" to return the mean prediction from a 3-fold cross validation for each of the models. How do the $r^2$ metrics compare?\n",
    "\n",
    "Experiment with different [metrics](http://scikit-learn.org/stable/modules/model_evaluation.html), and select your preferred model. Keep in mind that higher return values are better than lower return values in this method."
   ]
  },
  {
   "cell_type": "code",
   "execution_count": 20,
   "metadata": {},
   "outputs": [
    {
     "name": "stdout",
     "output_type": "stream",
     "text": [
      "[ 0.65114427  0.61319661  0.53095857]\n",
      "mean cross validation score for linear regression model:  0.598433145811\n"
     ]
    }
   ],
   "source": [
    "lin_cv_scores = cross_val_score(lin_reg,X,y,cv=3)\n",
    "print(lin_cv_scores)\n",
    "print('mean cross validation score for linear regression model: ', lin_cv_scores.mean())"
   ]
  },
  {
   "cell_type": "code",
   "execution_count": 21,
   "metadata": {},
   "outputs": [
    {
     "name": "stdout",
     "output_type": "stream",
     "text": [
      "[ 0.68207765  0.61575522  0.52682085]\n",
      "mean cross validation score for ridge regression model:  0.608217907365\n"
     ]
    }
   ],
   "source": [
    "ridge_cv_scores = cross_val_score(ridge_reg,X,y,cv=3)\n",
    "print(ridge_cv_scores)\n",
    "print('mean cross validation score for ridge regression model: ', ridge_cv_scores.mean())"
   ]
  },
  {
   "cell_type": "code",
   "execution_count": 22,
   "metadata": {},
   "outputs": [
    {
     "name": "stdout",
     "output_type": "stream",
     "text": [
      "[ 0.65860307  0.61218186  0.52893315]\n",
      "mean cross validation score for linear regression model:  0.599906025528\n"
     ]
    }
   ],
   "source": [
    "lasso_cv_scores = cross_val_score(lasso_reg,X,y,cv=3)\n",
    "print(lasso_cv_scores)\n",
    "print('mean cross validation score for linear regression model: ', lasso_cv_scores.mean())"
   ]
  },
  {
   "cell_type": "markdown",
   "metadata": {},
   "source": [
    "<b>It looks like the best fit using cross validation scores as the measure is the ridge model once again, although they are all close. They are in the same order: ridge, lasso, linear, for both r2 and cross validation score metrics.</b>"
   ]
  },
  {
   "cell_type": "markdown",
   "metadata": {},
   "source": [
    "If you're feeling ambitious, experiment with the full range of cross-validation options (including Leave-One-Out)!"
   ]
  },
  {
   "cell_type": "code",
   "execution_count": 32,
   "metadata": {},
   "outputs": [
    {
     "ename": "ValueError",
     "evalue": "Cannot have number of splits n_splits=438 greater than the number of samples: 0.",
     "output_type": "error",
     "traceback": [
      "\u001b[0;31m---------------------------------------------------------------------------\u001b[0m",
      "\u001b[0;31mValueError\u001b[0m                                Traceback (most recent call last)",
      "\u001b[0;32m<ipython-input-32-27388fdcb149>\u001b[0m in \u001b[0;36m<module>\u001b[0;34m()\u001b[0m\n\u001b[1;32m     17\u001b[0m \u001b[0;31m#     print('Train: %s | test: %s' % (train_indices, test_indices))\u001b[0m\u001b[0;34m\u001b[0m\u001b[0;34m\u001b[0m\u001b[0m\n\u001b[1;32m     18\u001b[0m      [lin_reg.fit(X_digits[train], y_digits[train]).score(X_digits[test], y_digits[test])\n\u001b[0;32m---> 19\u001b[0;31m          for train, test in kf.split(X_digits)]\n\u001b[0m\u001b[1;32m     20\u001b[0m \u001b[0;34m\u001b[0m\u001b[0m\n\u001b[1;32m     21\u001b[0m \u001b[0mcross_val_score\u001b[0m\u001b[0;34m(\u001b[0m\u001b[0mlin_reg\u001b[0m\u001b[0;34m,\u001b[0m \u001b[0mX_digits\u001b[0m\u001b[0;34m,\u001b[0m \u001b[0my_digits\u001b[0m\u001b[0;34m,\u001b[0m \u001b[0mcv\u001b[0m\u001b[0;34m=\u001b[0m\u001b[0mkf\u001b[0m\u001b[0;34m,\u001b[0m \u001b[0mn_jobs\u001b[0m\u001b[0;34m=\u001b[0m\u001b[0;34m-\u001b[0m\u001b[0;36m1\u001b[0m\u001b[0;34m)\u001b[0m\u001b[0;34m\u001b[0m\u001b[0m\n",
      "\u001b[0;32m<ipython-input-32-27388fdcb149>\u001b[0m in \u001b[0;36m<listcomp>\u001b[0;34m(.0)\u001b[0m\n\u001b[1;32m     16\u001b[0m \u001b[0;32mfor\u001b[0m \u001b[0mtrain\u001b[0m\u001b[0;34m,\u001b[0m \u001b[0mtest\u001b[0m \u001b[0;32min\u001b[0m \u001b[0mkf\u001b[0m\u001b[0;34m.\u001b[0m\u001b[0msplit\u001b[0m\u001b[0;34m(\u001b[0m\u001b[0mX\u001b[0m\u001b[0;34m)\u001b[0m\u001b[0;34m:\u001b[0m\u001b[0;34m\u001b[0m\u001b[0m\n\u001b[1;32m     17\u001b[0m \u001b[0;31m#     print('Train: %s | test: %s' % (train_indices, test_indices))\u001b[0m\u001b[0;34m\u001b[0m\u001b[0;34m\u001b[0m\u001b[0m\n\u001b[0;32m---> 18\u001b[0;31m      [lin_reg.fit(X_digits[train], y_digits[train]).score(X_digits[test], y_digits[test])\n\u001b[0m\u001b[1;32m     19\u001b[0m          for train, test in kf.split(X_digits)]\n\u001b[1;32m     20\u001b[0m \u001b[0;34m\u001b[0m\u001b[0m\n",
      "\u001b[0;32m/srv/app/venv/lib/python3.6/site-packages/sklearn/model_selection/_split.py\u001b[0m in \u001b[0;36msplit\u001b[0;34m(self, X, y, groups)\u001b[0m\n\u001b[1;32m    328\u001b[0m                 (\"Cannot have number of splits n_splits={0} greater\"\n\u001b[1;32m    329\u001b[0m                  \u001b[0;34m\" than the number of samples: {1}.\"\u001b[0m\u001b[0;34m)\u001b[0m\u001b[0;34m.\u001b[0m\u001b[0mformat\u001b[0m\u001b[0;34m(\u001b[0m\u001b[0mself\u001b[0m\u001b[0;34m.\u001b[0m\u001b[0mn_splits\u001b[0m\u001b[0;34m,\u001b[0m\u001b[0;34m\u001b[0m\u001b[0m\n\u001b[0;32m--> 330\u001b[0;31m                                                              n_samples))\n\u001b[0m\u001b[1;32m    331\u001b[0m \u001b[0;34m\u001b[0m\u001b[0m\n\u001b[1;32m    332\u001b[0m         \u001b[0;32mfor\u001b[0m \u001b[0mtrain\u001b[0m\u001b[0;34m,\u001b[0m \u001b[0mtest\u001b[0m \u001b[0;32min\u001b[0m \u001b[0msuper\u001b[0m\u001b[0;34m(\u001b[0m\u001b[0m_BaseKFold\u001b[0m\u001b[0;34m,\u001b[0m \u001b[0mself\u001b[0m\u001b[0;34m)\u001b[0m\u001b[0;34m.\u001b[0m\u001b[0msplit\u001b[0m\u001b[0;34m(\u001b[0m\u001b[0mX\u001b[0m\u001b[0;34m,\u001b[0m \u001b[0my\u001b[0m\u001b[0;34m,\u001b[0m \u001b[0mgroups\u001b[0m\u001b[0;34m)\u001b[0m\u001b[0;34m:\u001b[0m\u001b[0;34m\u001b[0m\u001b[0m\n",
      "\u001b[0;31mValueError\u001b[0m: Cannot have number of splits n_splits=438 greater than the number of samples: 0."
     ]
    }
   ],
   "source": [
    "#using Leave One Out cross validation\n",
    "##not sure how to do this at all\n",
    "#from sklearn.model_selection import LeaveOneOut\n",
    "# X = np.array([[1, 2], [3, 4]]) their test array\n",
    "# y = np.array([1, 2])\n",
    "#loo = LeaveOneOut()\n",
    "#train, test = loo.split(X,y)\n",
    "\n",
    "#from sklearn.model_selection import KFold\n",
    "#X = np.array([[1, 2], [3, 4], [1, 2], [3, 4]])\n",
    "#y = np.array([1, 2, 3, 4])\n",
    "#kf = KFold(n_splits=n)\n",
    "#kf.get_n_splits(X)\n",
    "\n",
    "\n",
    "#for train, test in kf.split(X):\n",
    "#     print('Train: %s | test: %s' % (train_indices, test_indices))\n",
    "#    [lin_reg.fit(X_digits[train], y_digits[train]).score(X_digits[test], y_digits[test])\n",
    "#         for train, test in kf.split(X_digits)]\n",
    "#\n",
    "#cross_val_score(lin_reg, X_digits, y_digits, cv=kf, n_jobs=-1)\n",
    "\n",
    "# see this link http://scikit-learn.org/stable/auto_examples/exercises/plot_cv_diabetes.html#sphx-glr-auto-examples-exercises-plot-cv-diabetes-py \n",
    "#     for an example of using k_fold validation"
   ]
  },
  {
   "cell_type": "code",
   "execution_count": null,
   "metadata": {},
   "outputs": [],
   "source": []
  }
 ],
 "metadata": {
  "kernelspec": {
   "display_name": "Python 3",
   "language": "python",
   "name": "python3"
  },
  "language_info": {
   "codemirror_mode": {
    "name": "ipython",
    "version": 3
   },
   "file_extension": ".py",
   "mimetype": "text/x-python",
   "name": "python",
   "nbconvert_exporter": "python",
   "pygments_lexer": "ipython3",
   "version": "3.6.1"
  }
 },
 "nbformat": 4,
 "nbformat_minor": 2
}
