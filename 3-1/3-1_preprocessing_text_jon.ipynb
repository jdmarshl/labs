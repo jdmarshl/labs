{
 "cells": [
  {
   "cell_type": "markdown",
   "metadata": {},
   "source": [
    "# [LEGALST-190] Preprocessing Text - Lab 3-1\n",
    "\n",
    "---\n",
    "\n",
    "This lab will provide an introduction to manipulating strings and chunking sentences.\n",
    "\n",
    "*Estimated Time: 30-40 minutes*\n",
    "\n",
    "---\n",
    "\n",
    "### Topics Covered\n",
    "- How to tokenize text\n",
    "- How to stem text\n",
    "- How to chunk text\n",
    "\n",
    "### Table of Contents\n",
    "\n",
    "[The Data](#section data)<br>\n",
    "\n",
    "1 - [Tokenization](#section 1)<br>\n",
    "\n",
    "2 - [Stemming](#section 2)<br>\n",
    "\n",
    "3 - [Chunking](#section 3)<br>\n"
   ]
  },
  {
   "cell_type": "markdown",
   "metadata": {},
   "source": [
    "---\n",
    "\n",
    "## The Data <a id='data'></a>\n",
    "\n",
    "\n",
    "In this notebook, you'll be working with the text of each country’s statement from the General Debate in annual sessions of the United Nations General Assembly. This dataset is separated by country, session and year and tagged for each, and has over forty years of data from different countries.\n",
    "\n"
   ]
  },
  {
   "cell_type": "markdown",
   "metadata": {},
   "source": [
    "### Visualizing data"
   ]
  },
  {
   "cell_type": "markdown",
   "metadata": {},
   "source": [
    "Run the below cells and take a look at a sample of the data that we'll be working with."
   ]
  },
  {
   "cell_type": "code",
   "execution_count": 1,
   "metadata": {},
   "outputs": [],
   "source": [
    "import pandas as pd\n",
    "data = pd.read_csv(\"../data/un-general-debates.zip\", compression='zip')"
   ]
  },
  {
   "cell_type": "code",
   "execution_count": 2,
   "metadata": {},
   "outputs": [
    {
     "data": {
      "text/html": [
       "<div>\n",
       "<table border=\"1\" class=\"dataframe\">\n",
       "  <thead>\n",
       "    <tr style=\"text-align: right;\">\n",
       "      <th></th>\n",
       "      <th>session</th>\n",
       "      <th>year</th>\n",
       "      <th>country</th>\n",
       "      <th>text</th>\n",
       "    </tr>\n",
       "  </thead>\n",
       "  <tbody>\n",
       "    <tr>\n",
       "      <th>0</th>\n",
       "      <td>44</td>\n",
       "      <td>1989</td>\n",
       "      <td>MDV</td>\n",
       "      <td>﻿It is indeed a pleasure for me and the member...</td>\n",
       "    </tr>\n",
       "    <tr>\n",
       "      <th>1</th>\n",
       "      <td>44</td>\n",
       "      <td>1989</td>\n",
       "      <td>FIN</td>\n",
       "      <td>﻿\\nMay I begin by congratulating you. Sir, on ...</td>\n",
       "    </tr>\n",
       "    <tr>\n",
       "      <th>2</th>\n",
       "      <td>44</td>\n",
       "      <td>1989</td>\n",
       "      <td>NER</td>\n",
       "      <td>﻿\\nMr. President, it is a particular pleasure ...</td>\n",
       "    </tr>\n",
       "    <tr>\n",
       "      <th>3</th>\n",
       "      <td>44</td>\n",
       "      <td>1989</td>\n",
       "      <td>URY</td>\n",
       "      <td>﻿\\nDuring the debate at the fortieth session o...</td>\n",
       "    </tr>\n",
       "    <tr>\n",
       "      <th>4</th>\n",
       "      <td>44</td>\n",
       "      <td>1989</td>\n",
       "      <td>ZWE</td>\n",
       "      <td>﻿I should like at the outset to express my del...</td>\n",
       "    </tr>\n",
       "  </tbody>\n",
       "</table>\n",
       "</div>"
      ],
      "text/plain": [
       "   session  year country                                               text\n",
       "0       44  1989     MDV  ﻿It is indeed a pleasure for me and the member...\n",
       "1       44  1989     FIN  ﻿\\nMay I begin by congratulating you. Sir, on ...\n",
       "2       44  1989     NER  ﻿\\nMr. President, it is a particular pleasure ...\n",
       "3       44  1989     URY  ﻿\\nDuring the debate at the fortieth session o...\n",
       "4       44  1989     ZWE  ﻿I should like at the outset to express my del..."
      ]
     },
     "execution_count": 2,
     "metadata": {},
     "output_type": "execute_result"
    }
   ],
   "source": [
    "data.head()"
   ]
  },
  {
   "cell_type": "markdown",
   "metadata": {},
   "source": [
    "## Tokenization  <a id='section 1'></a>"
   ]
  },
  {
   "cell_type": "markdown",
   "metadata": {},
   "source": [
    "Tokenization is defined as <b>the process of segmenting running text into words and sentences</b>.\n"
   ]
  },
  {
   "cell_type": "markdown",
   "metadata": {},
   "source": [
    "### Why do we need to tokenize text"
   ]
  },
  {
   "cell_type": "markdown",
   "metadata": {},
   "source": [
    "Electronic text is a linear sequence of symbols. Before any processing is to be done, text needs to be segmented into linguistic units, and this process is called tokenization."
   ]
  },
  {
   "cell_type": "markdown",
   "metadata": {
    "collapsed": true
   },
   "source": [
    "We usually look at grammar and meaning at the level of words, related to each other within sentences, within each document. So if we're starting with raw text, we first need to split the text into sentences, and those sentences into words -- which we call \"tokens\"."
   ]
  },
  {
   "cell_type": "markdown",
   "metadata": {},
   "source": [
    "### How to tokenize"
   ]
  },
  {
   "cell_type": "markdown",
   "metadata": {},
   "source": [
    "You might imagine that the easiest way to identify sentences is to split the document at every period '.', and to split the sentences using white space to get the words."
   ]
  },
  {
   "cell_type": "code",
   "execution_count": 3,
   "metadata": {},
   "outputs": [
    {
     "name": "stdout",
     "output_type": "stream",
     "text": [
      "﻿It is indeed a pleasure for me and the members of my delegation to extend to Ambassador Garba our sincere congratulations on his election to the presidency of the forty-fourth session of the General Assembly\n",
      "\n",
      " His election to this high office is a well-deserved tribute to his personal qualities and experience\n",
      "\n",
      " I am fully confident that under his able and wise leadership the Assembly will further consolidate the gains achieved during the past year\n",
      "\n",
      "\n",
      "My delegation associates itself with previous speakers in expressing its appreciation of the dedicated efforts of his predecessor, His Excellency Mr\n",
      "\n",
      " Dante Caputo, for the exemplary manner in which he discharged his duties as President of the forty-third session of the General Assembly\n",
      "\n"
     ]
    }
   ],
   "source": [
    "# using the split function to create tokens\n",
    "paragraph = data['text'][0]\n",
    "sentences = paragraph.split(\".\")\n",
    "for s in sentences[:5]:\n",
    "    print(s + '\\n')"
   ]
  },
  {
   "cell_type": "markdown",
   "metadata": {},
   "source": [
    "Then to split sentences further into words. Complete the code below to split sentence according to spaces."
   ]
  },
  {
   "cell_type": "code",
   "execution_count": 4,
   "metadata": {},
   "outputs": [
    {
     "data": {
      "text/plain": [
       "['What', 'kind', 'of', 'patterns', 'do', 'you', 'see', 'in', 'this', 'graph?']"
      ]
     },
     "execution_count": 4,
     "metadata": {},
     "output_type": "execute_result"
    }
   ],
   "source": [
    "sentence = \"What kind of patterns do you see in this graph?\"\n",
    "tokens = sentence.split(' ')\n",
    "tokens"
   ]
  },
  {
   "cell_type": "markdown",
   "metadata": {},
   "source": [
    "We'll stop here as NLTK provides handy tools for us to use."
   ]
  },
  {
   "cell_type": "markdown",
   "metadata": {},
   "source": [
    "### NLTK"
   ]
  },
  {
   "cell_type": "markdown",
   "metadata": {},
   "source": [
    "NLTK (Natural Language Toolkit) is a platform for building Python programs to work with human language data"
   ]
  },
  {
   "cell_type": "code",
   "execution_count": 5,
   "metadata": {},
   "outputs": [],
   "source": [
    "import nltk\n",
    "# run the below commented command if error\n",
    "# nltk.download()"
   ]
  },
  {
   "cell_type": "code",
   "execution_count": 6,
   "metadata": {},
   "outputs": [
    {
     "data": {
      "text/plain": [
       "[\"\\ufeffI should like at the outset to express my delegation's satisfaction and pleasure at your election, Sir, to the presidency of the General Assembly at its forty-fourth session.\",\n",
       " 'The unanimity of that decision reflects not only your own distinguished record as Foreign Minister and Permanent Representative of your country to the United Nations but also the prestige of your country, Nigeria, of which all of us in Africa are proud.',\n",
       " 'The outgoing President of the General Assembly, Mr. Dante Caputo of Argentina, shouldered the responsibility of his office with distinction in a momentous and difficult year.']"
      ]
     },
     "execution_count": 6,
     "metadata": {},
     "output_type": "execute_result"
    }
   ],
   "source": [
    "# create sentence tokens\n",
    "speech = data['text'][4]\n",
    "sents = nltk.sent_tokenize(speech)\n",
    "sents[:3]"
   ]
  },
  {
   "cell_type": "code",
   "execution_count": 7,
   "metadata": {},
   "outputs": [
    {
     "data": {
      "text/plain": [
       "['At',\n",
       " 'eight',\n",
       " \"o'clock\",\n",
       " 'on',\n",
       " 'Thursday',\n",
       " 'morning',\n",
       " 'Arthur',\n",
       " 'did',\n",
       " \"n't\",\n",
       " 'feel',\n",
       " 'very',\n",
       " 'good',\n",
       " '.']"
      ]
     },
     "execution_count": 7,
     "metadata": {},
     "output_type": "execute_result"
    }
   ],
   "source": [
    "s4 = \"At eight o'clock on Thursday morning Arthur didn't feel very good.\"\n",
    "nltk.word_tokenize(s4)"
   ]
  },
  {
   "cell_type": "markdown",
   "metadata": {},
   "source": [
    "nltk recognized that \"o'clock\" is one word and separated \"didn't\" into \"did\" and \"n't\""
   ]
  },
  {
   "cell_type": "markdown",
   "metadata": {},
   "source": [
    "For more complicated metrics, it's easier to use NLTK's classes and methods."
   ]
  },
  {
   "cell_type": "code",
   "execution_count": 8,
   "metadata": {},
   "outputs": [
    {
     "data": {
      "text/plain": [
       "[('the', 401),\n",
       " ('of', 213),\n",
       " (',', 180),\n",
       " ('to', 177),\n",
       " ('.', 175),\n",
       " ('and', 139),\n",
       " ('in', 106),\n",
       " ('that', 88),\n",
       " ('a', 70),\n",
       " ('is', 63)]"
      ]
     },
     "execution_count": 8,
     "metadata": {},
     "output_type": "execute_result"
    }
   ],
   "source": [
    "# Find the 10 most common tokens\n",
    "tokens = nltk.word_tokenize(speech)\n",
    "fd = nltk.collocations.FreqDist(tokens)\n",
    "fd.most_common()[:10]"
   ]
  },
  {
   "cell_type": "markdown",
   "metadata": {},
   "source": [
    "Not so interesting as the most common words seem to be words that have no particular meanings."
   ]
  },
  {
   "cell_type": "markdown",
   "metadata": {},
   "source": [
    "A common step in text analysis is to remove noise. *However*, what you deem \"noise\" is not only very important but also dependent on the project at hand. For the purposes of today, we will discuss two common categories of strings often considered \"noise\". \n",
    "\n",
    "- Punctuation: While important for sentence analysis, punctuation will get in the way of word frequency and n-gram analyses. They will also affect any clustering on topic modeling.\n",
    "\n",
    "- Stopwords: Stopwords are the most frequent words in any given language. Words like \"the\", \"a\", \"that\", etc. are considered not semantically important, and would also skew any frequency or n-gram analysis."
   ]
  },
  {
   "cell_type": "markdown",
   "metadata": {},
   "source": [
    "<b>Question</b> Write a function below that takes a string as an argument and returns a list of words without punctuation or stopwords.\n",
    "\n",
    "`punctuation` is a list of punctuation strings, and we have created the list `stop_words` for you.\n",
    "\n",
    "Hint: first you'll want to remove punctuation, then tokenize, then remove stop words. Make sure you account for upper and lower case!"
   ]
  },
  {
   "cell_type": "code",
   "execution_count": 9,
   "metadata": {},
   "outputs": [
    {
     "data": {
      "text/plain": [
       "['eight', 'oclock', 'Thursday', 'morning', 'Arthur', 'didnt', 'feel', 'good']"
      ]
     },
     "execution_count": 9,
     "metadata": {},
     "output_type": "execute_result"
    }
   ],
   "source": [
    "def rem_punc_stop(text):\n",
    "    \n",
    "    from string import punctuation\n",
    "    from nltk.corpus import stopwords\n",
    "    \n",
    "    stop_words = stopwords.words(\"english\")\n",
    "    # working_string is the string we are taking punctuation out of\n",
    "    wordlist = []\n",
    "    working_string = ''\n",
    "    for character in text:\n",
    "        if not (character in punctuation): \n",
    "               working_string = working_string + character\n",
    "    words = nltk.word_tokenize(working_string)\n",
    "    for word in words:\n",
    "        if not (word.lower() in stop_words):\n",
    "               wordlist.append(word)\n",
    "    return wordlist\n",
    "clean_text = rem_punc_stop(s4)\n",
    "clean_text"
   ]
  },
  {
   "cell_type": "markdown",
   "metadata": {},
   "source": [
    "Now rerun your frequency analysis without the noise by completing the code below:"
   ]
  },
  {
   "cell_type": "code",
   "execution_count": 10,
   "metadata": {},
   "outputs": [
    {
     "data": {
      "text/plain": [
       "[('international', 29),\n",
       " ('Nations', 24),\n",
       " ('United', 23),\n",
       " ('countries', 22),\n",
       " ('Africa', 19),\n",
       " ('Assembly', 18),\n",
       " ('African', 16),\n",
       " ('also', 15),\n",
       " ('South', 14),\n",
       " ('important', 14)]"
      ]
     },
     "execution_count": 10,
     "metadata": {},
     "output_type": "execute_result"
    }
   ],
   "source": [
    "tokens_reduced = rem_punc_stop(speech)\n",
    "fd_reduced = nltk.collocations.FreqDist(tokens_reduced)\n",
    "fd_reduced.most_common()[:10]"
   ]
  },
  {
   "cell_type": "markdown",
   "metadata": {},
   "source": [
    "Now our analysis is much more informational and revealing."
   ]
  },
  {
   "cell_type": "markdown",
   "metadata": {},
   "source": [
    "<b>POS tagging</b> The process of classifying words into their parts of speech and labeling them accordingly is known as part-of-speech tagging."
   ]
  },
  {
   "cell_type": "code",
   "execution_count": 11,
   "metadata": {},
   "outputs": [
    {
     "data": {
      "text/plain": [
       "[('like', 'IN'),\n",
       " ('at', 'IN'),\n",
       " ('the', 'DT'),\n",
       " ('outset', 'NN'),\n",
       " ('to', 'TO'),\n",
       " ('express', 'VB')]"
      ]
     },
     "execution_count": 11,
     "metadata": {},
     "output_type": "execute_result"
    }
   ],
   "source": [
    "tagged = nltk.pos_tag(tokens[2:8])\n",
    "tagged"
   ]
  },
  {
   "cell_type": "markdown",
   "metadata": {},
   "source": [
    "## Stemming <a id='section 2'></a>"
   ]
  },
  {
   "cell_type": "markdown",
   "metadata": {},
   "source": [
    "In NLP it is often the case that the specific form of a word is not as important as the idea to which it refers. For example, if you are trying to identify the topic of a document, counting 'running', 'runs', 'ran', and 'run' as four separate words is not useful. Reducing words to their stems is a process called stemming.\n",
    "\n",
    "A popular stemming implementation is the Snowball Stemmer, which is based on the Porter Stemmer. Its algorithm looks at word forms and does things like drop final 's's, 'ed's, and 'ing's.\n",
    "\n",
    "Just like the tokenizers, we first have to create a stemmer object with the language we are using. Refer to [this documentation](http://www.nltk.org/howto/stem.html) to create a snowball stemmer."
   ]
  },
  {
   "cell_type": "code",
   "execution_count": 12,
   "metadata": {},
   "outputs": [],
   "source": [
    "snowball = nltk.SnowballStemmer('english')"
   ]
  },
  {
   "cell_type": "markdown",
   "metadata": {},
   "source": [
    "Now, we can try stemming some words"
   ]
  },
  {
   "cell_type": "code",
   "execution_count": 13,
   "metadata": {},
   "outputs": [
    {
     "data": {
      "text/plain": [
       "'run'"
      ]
     },
     "execution_count": 13,
     "metadata": {},
     "output_type": "execute_result"
    }
   ],
   "source": [
    "snowball.stem('running')"
   ]
  },
  {
   "cell_type": "code",
   "execution_count": 14,
   "metadata": {},
   "outputs": [
    {
     "data": {
      "text/plain": [
       "'eat'"
      ]
     },
     "execution_count": 14,
     "metadata": {},
     "output_type": "execute_result"
    }
   ],
   "source": [
    "snowball.stem('eats')"
   ]
  },
  {
   "cell_type": "code",
   "execution_count": 15,
   "metadata": {},
   "outputs": [
    {
     "data": {
      "text/plain": [
       "'embarass'"
      ]
     },
     "execution_count": 15,
     "metadata": {},
     "output_type": "execute_result"
    }
   ],
   "source": [
    "snowball.stem('embarassed')"
   ]
  },
  {
   "cell_type": "markdown",
   "metadata": {},
   "source": [
    "Snowball is a very fast algorithm, but it has a lot of edge cases. In some cases, words with the same stem are reduced to two different stems"
   ]
  },
  {
   "cell_type": "code",
   "execution_count": 16,
   "metadata": {},
   "outputs": [
    {
     "data": {
      "text/plain": [
       "('cylind', 'cylindr')"
      ]
     },
     "execution_count": 16,
     "metadata": {},
     "output_type": "execute_result"
    }
   ],
   "source": [
    "snowball.stem('cylinder'), snowball.stem('cylindrical')"
   ]
  },
  {
   "cell_type": "markdown",
   "metadata": {},
   "source": [
    "Sometimes two different words are reduced to the same stem."
   ]
  },
  {
   "cell_type": "code",
   "execution_count": 17,
   "metadata": {},
   "outputs": [
    {
     "data": {
      "text/plain": [
       "('vacat', 'vacat')"
      ]
     },
     "execution_count": 17,
     "metadata": {},
     "output_type": "execute_result"
    }
   ],
   "source": [
    "snowball.stem('vacation'), snowball.stem('vacate')"
   ]
  },
  {
   "cell_type": "markdown",
   "metadata": {},
   "source": [
    "<b>Question</b> How would the above two situations affect our text analysis"
   ]
  },
  {
   "cell_type": "markdown",
   "metadata": {},
   "source": [
    "<b>The first would decrease the frequency with which you find words about 'cylinders' since you might only count words stemmed as 'cylind', while in the in the second case you would be counting as the same thing two very different meanings (although both words do come from the same latinate stem, so maybe it isn't so bad).</b>"
   ]
  },
  {
   "cell_type": "markdown",
   "metadata": {},
   "source": [
    "## Chunking<a id='section 3'></a>"
   ]
  },
  {
   "cell_type": "markdown",
   "metadata": {},
   "source": [
    "We may want to work with larger segments of text than single words (but still smaller than a sentence). For instance, in the sentence \"The black cat climbed over the tall fence\", we might want to treat \"The black cat\" as one thing (the subject), \"climbed over\" as a distinct act, and \"the tall fence\" as another thing (the object). The first and third sequences are noun phrases, and the second is a verb phrase.\n",
    "\n",
    "We can separate these phrases by \"chunking\" the sentence, i.e. splitting it into larger chunks than individual tokens. This is also an important step toward identifying entities, which are often represented by more than one word. You can probably imagine certain patterns that would define a noun phrase, using part of speech tags. For instance, a determiner (e.g. an article like \"the\") could be concatenated onto the noun that follows it. If there's an adjective between them, we can include that too.\n",
    "\n",
    "To define rules about how to structure words based on their part of speech tags, we use a grammar (in this case, a \"chunk grammar\"). NLTK provides a RegexpParser that takes as input a grammar composed of regular expressions (which define patterns in text, we'll learn it in later labs). The grammar is defined as a string, with one line for each rule we define. Each rule starts with the label we want to assign to the chunk (e.g. NP for \"noun phrase\"), followed by a colon, then an expression in regex-like notation that will be matched to tokens' POS (part-of-speech) tags.\n",
    "\n",
    "We can define a single rule for a noun phrase like this. The rule allows 0 or 1 determiner, then 0 or more adjectives, and finally at least 1 noun. (By using 'NN.*' as the last POS tag, we can match 'NN', 'NNP' for a proper noun, or 'NNS' for a plural noun.) If a matching sequence of tokens is found, it will be labeled 'NP'."
   ]
  },
  {
   "cell_type": "markdown",
   "metadata": {},
   "source": [
    "Take a look at different [POS tags](http://www.ling.upenn.edu/courses/Fall_2003/ling001/penn_treebank_pos.html)"
   ]
  },
  {
   "cell_type": "code",
   "execution_count": 18,
   "metadata": {},
   "outputs": [],
   "source": [
    "grammar = \"NP: {<DT>?<JJ>*<NN.*>+}\""
   ]
  },
  {
   "cell_type": "markdown",
   "metadata": {},
   "source": [
    "We create a chunk parser object by supplying this grammar, then use it to parse a sentence into chunks. The sentence we want to parse must already be POS-tagged, since our grammar uses those POS tags to identify chunks. Let's try this on the second sentence of the speech we generated above."
   ]
  },
  {
   "cell_type": "code",
   "execution_count": 19,
   "metadata": {},
   "outputs": [
    {
     "name": "stdout",
     "output_type": "stream",
     "text": [
      "(S\n",
      "  (NP T/NNP h/NN e/NN  /NNP)\n",
      "  u/JJ\n",
      "  n/FW\n",
      "  (NP a/DT n/NN i/NN)\n",
      "  m/VBP\n",
      "  (NP i/NN)\n",
      "  t/VBP\n",
      "  (NP y/NN  /NNP)\n",
      "  o/VBZ\n",
      "  (NP f/JJ  /NNP t/NN)\n",
      "  h/VBD\n",
      "  (NP a/DT t/NN  /NNP d/NN e/NN c/NN i/NN)\n",
      "  s/VBP\n",
      "  (NP i/NN)\n",
      "  o/VBP\n",
      "  (NP n/JJ  /NNP r/NN e/NN f/NN l/NN e/NN)\n",
      "  c/VBP\n",
      "  (NP t/NN s/NN  /NNP)\n",
      "  n/CC\n",
      "  (NP o/JJ t/NN  /NNP)\n",
      "  o/VBZ\n",
      "  (NP n/JJ l/NN y/NN  /NNP y/NNP)\n",
      "  o/MD\n",
      "  u/VB\n",
      "  (NP r/NN  /NNP)\n",
      "  o/VBZ\n",
      "  (NP w/JJ n/JJ  /NNP d/NN i/NN)\n",
      "  s/VBP\n",
      "  (NP t/NN i/NN)\n",
      "  n/VBP\n",
      "  (NP g/NN u/NN i/NN)\n",
      "  s/VBP\n",
      "  (NP h/NN e/NN d/NN  /NNP r/NN e/NN c/NN o/NN r/NN d/NN)\n",
      "   /VBZ\n",
      "  (NP a/DT s/JJ  /NN F/NNP)\n",
      "  o/VBZ\n",
      "  (NP r/NN e/NN i/NN)\n",
      "  g/VBP\n",
      "  (NP n/JJ  /NNP M/NNP i/NN)\n",
      "  n/VBP\n",
      "  (NP i/NN)\n",
      "  s/VBP\n",
      "  (NP t/NN e/NN r/NN)\n",
      "   /VBZ\n",
      "  (NP a/DT n/JJ d/NN  /NNP P/NNP e/NN r/NN)\n",
      "  m/VBD\n",
      "  (NP a/DT n/JJ e/NN)\n",
      "  (NP n/JJ t/NN  /NNP R/NNP e/NN p/NN r/NN e/NN s/NN e/NN)\n",
      "  n/JJ\n",
      "  t/VBZ\n",
      "  (NP a/DT t/NN i/NN)\n",
      "  v/VBP\n",
      "  (NP e/NN  /NNP)\n",
      "  o/VBZ\n",
      "  (NP f/JJ  /NNP y/NN o/NN)\n",
      "  (NP u/JJ r/NN  /NNP)\n",
      "  c/VBZ\n",
      "  (NP\n",
      "    o/JJ\n",
      "    u/JJ\n",
      "    n/NN\n",
      "    t/NN\n",
      "    r/NN\n",
      "    y/NN\n",
      "     /NNP\n",
      "    t/NN\n",
      "    o/NN\n",
      "     /NNP\n",
      "    t/NN\n",
      "    h/NN\n",
      "    e/NN\n",
      "     /NNP\n",
      "    U/NNP\n",
      "    n/NN\n",
      "    i/NN)\n",
      "  t/VBP\n",
      "  (NP e/NN d/NN  /NNP N/NNP)\n",
      "  (NP a/DT t/NN i/NN)\n",
      "  o/VBP\n",
      "  (NP n/JJ s/NN  /NN b/NN)\n",
      "  (NP u/JJ t/NN)\n",
      "   /VBD\n",
      "  (NP a/DT l/NN s/NN o/NN  /NNP t/NN h/NN e/NN  /NNP p/NN r/NN e/NN)\n",
      "  s/VBD\n",
      "  (NP t/NN i/NN)\n",
      "  g/VBP\n",
      "  (NP e/NN  /NNP)\n",
      "  o/VBZ\n",
      "  (NP f/JJ  /NNP y/NN o/NN)\n",
      "  (NP u/JJ r/NN  /NNP)\n",
      "  c/VBZ\n",
      "  (NP o/JJ u/JJ n/NN t/NN r/NN y/NN)\n",
      "  ,/,\n",
      "  (NP  /NNP N/NNP i/NN)\n",
      "  g/VBP\n",
      "  (NP e/NN r/NN)\n",
      "  i/VBZ\n",
      "  a/DT\n",
      "  ,/,\n",
      "  (NP  /JJ o/NN f/NN  /NNP w/NN h/NN)\n",
      "  i/JJ\n",
      "  c/VBP\n",
      "  h/JJ\n",
      "   /FW\n",
      "  (NP a/DT l/NN l/NN  /NNP)\n",
      "  o/VBZ\n",
      "  (NP f/JJ  /NNP u/NN s/NN  /NN i/NN)\n",
      "  n/VBP\n",
      "   /PDT\n",
      "  (NP A/NNP f/NN r/NN i/NN)\n",
      "  c/VBP\n",
      "  (NP a/DT  /NN)\n",
      "  (NP a/DT r/NN e/NN  /NNP p/NN r/NN o/NN)\n",
      "  (NP u/JJ d/NN)\n",
      "  ./.)\n"
     ]
    }
   ],
   "source": [
    "from nltk import RegexpParser\n",
    "\n",
    "cp = RegexpParser(grammar)\n",
    "\n",
    "sent_tagged = nltk.pos_tag(sents[1])\n",
    "sent_chunked = cp.parse(sent_tagged)\n",
    "\n",
    "print(sent_chunked)"
   ]
  },
  {
   "cell_type": "markdown",
   "metadata": {},
   "source": [
    "When we called print() on this chunked sentence, it printed out a nested list of nodes."
   ]
  },
  {
   "cell_type": "code",
   "execution_count": 20,
   "metadata": {},
   "outputs": [
    {
     "data": {
      "text/plain": [
       "nltk.tree.Tree"
      ]
     },
     "execution_count": 20,
     "metadata": {},
     "output_type": "execute_result"
    }
   ],
   "source": [
    "type(sent_chunked)"
   ]
  },
  {
   "cell_type": "markdown",
   "metadata": {},
   "source": [
    "The tree object has a number of methods we can use to interact with its components. For instance, we can use the method draw() to see a more graphical representation. This will open a separate window.\n",
    "\n",
    "The tree is pretty flat, because we defined a grammar that only grouped words into non-overlapping noun phrases, with no additional hierarchy above them. This is sometimes referred to as \"shallow parsing\"."
   ]
  },
  {
   "cell_type": "code",
   "execution_count": 23,
   "metadata": {},
   "outputs": [
    {
     "ename": "ImportError",
     "evalue": "No module named '_tkinter', please install the python3-tk package",
     "output_type": "error",
     "traceback": [
      "\u001b[0;31m---------------------------------------------------------------------------\u001b[0m",
      "\u001b[0;31mModuleNotFoundError\u001b[0m                       Traceback (most recent call last)",
      "\u001b[0;32m/usr/lib/python3.6/tkinter/__init__.py\u001b[0m in \u001b[0;36m<module>\u001b[0;34m()\u001b[0m\n\u001b[1;32m     36\u001b[0m \u001b[0;32mtry\u001b[0m\u001b[0;34m:\u001b[0m\u001b[0;34m\u001b[0m\u001b[0m\n\u001b[0;32m---> 37\u001b[0;31m     \u001b[0;32mimport\u001b[0m \u001b[0m_tkinter\u001b[0m\u001b[0;34m\u001b[0m\u001b[0m\n\u001b[0m\u001b[1;32m     38\u001b[0m \u001b[0;32mexcept\u001b[0m \u001b[0mImportError\u001b[0m \u001b[0;32mas\u001b[0m \u001b[0mmsg\u001b[0m\u001b[0;34m:\u001b[0m\u001b[0;34m\u001b[0m\u001b[0m\n",
      "\u001b[0;31mModuleNotFoundError\u001b[0m: No module named '_tkinter'",
      "\nDuring handling of the above exception, another exception occurred:\n",
      "\u001b[0;31mImportError\u001b[0m                               Traceback (most recent call last)",
      "\u001b[0;32m<ipython-input-23-d9747f82eb2e>\u001b[0m in \u001b[0;36m<module>\u001b[0;34m()\u001b[0m\n\u001b[1;32m      1\u001b[0m \u001b[0;32mfrom\u001b[0m \u001b[0mnltk\u001b[0m \u001b[0;32mimport\u001b[0m \u001b[0mdraw\u001b[0m\u001b[0;34m\u001b[0m\u001b[0m\n\u001b[0;32m----> 2\u001b[0;31m \u001b[0msent_chunked\u001b[0m\u001b[0;34m.\u001b[0m\u001b[0mdraw\u001b[0m\u001b[0;34m(\u001b[0m\u001b[0;34m)\u001b[0m\u001b[0;34m\u001b[0m\u001b[0m\n\u001b[0m",
      "\u001b[0;32m/srv/app/venv/lib/python3.6/site-packages/nltk/tree.py\u001b[0m in \u001b[0;36mdraw\u001b[0;34m(self)\u001b[0m\n\u001b[1;32m    687\u001b[0m         \u001b[0mOpen\u001b[0m \u001b[0ma\u001b[0m \u001b[0mnew\u001b[0m \u001b[0mwindow\u001b[0m \u001b[0mcontaining\u001b[0m \u001b[0ma\u001b[0m \u001b[0mgraphical\u001b[0m \u001b[0mdiagram\u001b[0m \u001b[0mof\u001b[0m \u001b[0mthis\u001b[0m \u001b[0mtree\u001b[0m\u001b[0;34m.\u001b[0m\u001b[0;34m\u001b[0m\u001b[0m\n\u001b[1;32m    688\u001b[0m         \"\"\"\n\u001b[0;32m--> 689\u001b[0;31m         \u001b[0;32mfrom\u001b[0m \u001b[0mnltk\u001b[0m\u001b[0;34m.\u001b[0m\u001b[0mdraw\u001b[0m\u001b[0;34m.\u001b[0m\u001b[0mtree\u001b[0m \u001b[0;32mimport\u001b[0m \u001b[0mdraw_trees\u001b[0m\u001b[0;34m\u001b[0m\u001b[0m\n\u001b[0m\u001b[1;32m    690\u001b[0m         \u001b[0mdraw_trees\u001b[0m\u001b[0;34m(\u001b[0m\u001b[0mself\u001b[0m\u001b[0;34m)\u001b[0m\u001b[0;34m\u001b[0m\u001b[0m\n\u001b[1;32m    691\u001b[0m \u001b[0;34m\u001b[0m\u001b[0m\n",
      "\u001b[0;32m/srv/app/venv/lib/python3.6/site-packages/nltk/draw/tree.py\u001b[0m in \u001b[0;36m<module>\u001b[0;34m()\u001b[0m\n\u001b[1;32m     10\u001b[0m \"\"\"\n\u001b[1;32m     11\u001b[0m \u001b[0;34m\u001b[0m\u001b[0m\n\u001b[0;32m---> 12\u001b[0;31m \u001b[0;32mfrom\u001b[0m \u001b[0msix\u001b[0m\u001b[0;34m.\u001b[0m\u001b[0mmoves\u001b[0m\u001b[0;34m.\u001b[0m\u001b[0mtkinter\u001b[0m \u001b[0;32mimport\u001b[0m \u001b[0mIntVar\u001b[0m\u001b[0;34m,\u001b[0m \u001b[0mMenu\u001b[0m\u001b[0;34m,\u001b[0m \u001b[0mTk\u001b[0m\u001b[0;34m\u001b[0m\u001b[0m\n\u001b[0m\u001b[1;32m     13\u001b[0m \u001b[0;34m\u001b[0m\u001b[0m\n\u001b[1;32m     14\u001b[0m \u001b[0;32mfrom\u001b[0m \u001b[0mnltk\u001b[0m\u001b[0;34m.\u001b[0m\u001b[0mutil\u001b[0m \u001b[0;32mimport\u001b[0m \u001b[0min_idle\u001b[0m\u001b[0;34m\u001b[0m\u001b[0m\n",
      "\u001b[0;32m/srv/app/venv/lib/python3.6/site-packages/six.py\u001b[0m in \u001b[0;36mload_module\u001b[0;34m(self, fullname)\u001b[0m\n\u001b[1;32m    201\u001b[0m         \u001b[0mmod\u001b[0m \u001b[0;34m=\u001b[0m \u001b[0mself\u001b[0m\u001b[0;34m.\u001b[0m\u001b[0m__get_module\u001b[0m\u001b[0;34m(\u001b[0m\u001b[0mfullname\u001b[0m\u001b[0;34m)\u001b[0m\u001b[0;34m\u001b[0m\u001b[0m\n\u001b[1;32m    202\u001b[0m         \u001b[0;32mif\u001b[0m \u001b[0misinstance\u001b[0m\u001b[0;34m(\u001b[0m\u001b[0mmod\u001b[0m\u001b[0;34m,\u001b[0m \u001b[0mMovedModule\u001b[0m\u001b[0;34m)\u001b[0m\u001b[0;34m:\u001b[0m\u001b[0;34m\u001b[0m\u001b[0m\n\u001b[0;32m--> 203\u001b[0;31m             \u001b[0mmod\u001b[0m \u001b[0;34m=\u001b[0m \u001b[0mmod\u001b[0m\u001b[0;34m.\u001b[0m\u001b[0m_resolve\u001b[0m\u001b[0;34m(\u001b[0m\u001b[0;34m)\u001b[0m\u001b[0;34m\u001b[0m\u001b[0m\n\u001b[0m\u001b[1;32m    204\u001b[0m         \u001b[0;32melse\u001b[0m\u001b[0;34m:\u001b[0m\u001b[0;34m\u001b[0m\u001b[0m\n\u001b[1;32m    205\u001b[0m             \u001b[0mmod\u001b[0m\u001b[0;34m.\u001b[0m\u001b[0m__loader__\u001b[0m \u001b[0;34m=\u001b[0m \u001b[0mself\u001b[0m\u001b[0;34m\u001b[0m\u001b[0m\n",
      "\u001b[0;32m/srv/app/venv/lib/python3.6/site-packages/six.py\u001b[0m in \u001b[0;36m_resolve\u001b[0;34m(self)\u001b[0m\n\u001b[1;32m    113\u001b[0m \u001b[0;34m\u001b[0m\u001b[0m\n\u001b[1;32m    114\u001b[0m     \u001b[0;32mdef\u001b[0m \u001b[0m_resolve\u001b[0m\u001b[0;34m(\u001b[0m\u001b[0mself\u001b[0m\u001b[0;34m)\u001b[0m\u001b[0;34m:\u001b[0m\u001b[0;34m\u001b[0m\u001b[0m\n\u001b[0;32m--> 115\u001b[0;31m         \u001b[0;32mreturn\u001b[0m \u001b[0m_import_module\u001b[0m\u001b[0;34m(\u001b[0m\u001b[0mself\u001b[0m\u001b[0;34m.\u001b[0m\u001b[0mmod\u001b[0m\u001b[0;34m)\u001b[0m\u001b[0;34m\u001b[0m\u001b[0m\n\u001b[0m\u001b[1;32m    116\u001b[0m \u001b[0;34m\u001b[0m\u001b[0m\n\u001b[1;32m    117\u001b[0m     \u001b[0;32mdef\u001b[0m \u001b[0m__getattr__\u001b[0m\u001b[0;34m(\u001b[0m\u001b[0mself\u001b[0m\u001b[0;34m,\u001b[0m \u001b[0mattr\u001b[0m\u001b[0;34m)\u001b[0m\u001b[0;34m:\u001b[0m\u001b[0;34m\u001b[0m\u001b[0m\n",
      "\u001b[0;32m/srv/app/venv/lib/python3.6/site-packages/six.py\u001b[0m in \u001b[0;36m_import_module\u001b[0;34m(name)\u001b[0m\n\u001b[1;32m     80\u001b[0m \u001b[0;32mdef\u001b[0m \u001b[0m_import_module\u001b[0m\u001b[0;34m(\u001b[0m\u001b[0mname\u001b[0m\u001b[0;34m)\u001b[0m\u001b[0;34m:\u001b[0m\u001b[0;34m\u001b[0m\u001b[0m\n\u001b[1;32m     81\u001b[0m     \u001b[0;34m\"\"\"Import module, returning the module after the last dot.\"\"\"\u001b[0m\u001b[0;34m\u001b[0m\u001b[0m\n\u001b[0;32m---> 82\u001b[0;31m     \u001b[0m__import__\u001b[0m\u001b[0;34m(\u001b[0m\u001b[0mname\u001b[0m\u001b[0;34m)\u001b[0m\u001b[0;34m\u001b[0m\u001b[0m\n\u001b[0m\u001b[1;32m     83\u001b[0m     \u001b[0;32mreturn\u001b[0m \u001b[0msys\u001b[0m\u001b[0;34m.\u001b[0m\u001b[0mmodules\u001b[0m\u001b[0;34m[\u001b[0m\u001b[0mname\u001b[0m\u001b[0;34m]\u001b[0m\u001b[0;34m\u001b[0m\u001b[0m\n\u001b[1;32m     84\u001b[0m \u001b[0;34m\u001b[0m\u001b[0m\n",
      "\u001b[0;32m/usr/lib/python3.6/tkinter/__init__.py\u001b[0m in \u001b[0;36m<module>\u001b[0;34m()\u001b[0m\n\u001b[1;32m     37\u001b[0m     \u001b[0;32mimport\u001b[0m \u001b[0m_tkinter\u001b[0m\u001b[0;34m\u001b[0m\u001b[0m\n\u001b[1;32m     38\u001b[0m \u001b[0;32mexcept\u001b[0m \u001b[0mImportError\u001b[0m \u001b[0;32mas\u001b[0m \u001b[0mmsg\u001b[0m\u001b[0;34m:\u001b[0m\u001b[0;34m\u001b[0m\u001b[0m\n\u001b[0;32m---> 39\u001b[0;31m     \u001b[0;32mraise\u001b[0m \u001b[0mImportError\u001b[0m\u001b[0;34m(\u001b[0m\u001b[0mstr\u001b[0m\u001b[0;34m(\u001b[0m\u001b[0mmsg\u001b[0m\u001b[0;34m)\u001b[0m \u001b[0;34m+\u001b[0m \u001b[0;34m', please install the python3-tk package'\u001b[0m\u001b[0;34m)\u001b[0m\u001b[0;34m\u001b[0m\u001b[0m\n\u001b[0m\u001b[1;32m     40\u001b[0m \u001b[0mTclError\u001b[0m \u001b[0;34m=\u001b[0m \u001b[0m_tkinter\u001b[0m\u001b[0;34m.\u001b[0m\u001b[0mTclError\u001b[0m\u001b[0;34m\u001b[0m\u001b[0m\n\u001b[1;32m     41\u001b[0m \u001b[0;32mfrom\u001b[0m \u001b[0mtkinter\u001b[0m\u001b[0;34m.\u001b[0m\u001b[0mconstants\u001b[0m \u001b[0;32mimport\u001b[0m \u001b[0;34m*\u001b[0m\u001b[0;34m\u001b[0m\u001b[0m\n",
      "\u001b[0;31mImportError\u001b[0m: No module named '_tkinter', please install the python3-tk package"
     ]
    }
   ],
   "source": [
    "# need to load the draw module from nltk\n",
    "sent_chunked.draw()"
   ]
  },
  {
   "cell_type": "markdown",
   "metadata": {},
   "source": [
    "## Combining it all"
   ]
  },
  {
   "cell_type": "markdown",
   "metadata": {},
   "source": [
    "Write a function that <b><i>takes in a table, tokenizes all speeches in it, removes noise, and returns a string of stems of all tokens</b></i>.\n",
    "\n",
    "Hint: any function from above that we can just grab and use?"
   ]
  },
  {
   "cell_type": "markdown",
   "metadata": {},
   "source": [
    "As a reminder, this is what our table looks like"
   ]
  },
  {
   "cell_type": "code",
   "execution_count": 24,
   "metadata": {},
   "outputs": [
    {
     "data": {
      "text/html": [
       "<div>\n",
       "<table border=\"1\" class=\"dataframe\">\n",
       "  <thead>\n",
       "    <tr style=\"text-align: right;\">\n",
       "      <th></th>\n",
       "      <th>session</th>\n",
       "      <th>year</th>\n",
       "      <th>country</th>\n",
       "      <th>text</th>\n",
       "    </tr>\n",
       "  </thead>\n",
       "  <tbody>\n",
       "    <tr>\n",
       "      <th>0</th>\n",
       "      <td>44</td>\n",
       "      <td>1989</td>\n",
       "      <td>MDV</td>\n",
       "      <td>﻿It is indeed a pleasure for me and the member...</td>\n",
       "    </tr>\n",
       "    <tr>\n",
       "      <th>1</th>\n",
       "      <td>44</td>\n",
       "      <td>1989</td>\n",
       "      <td>FIN</td>\n",
       "      <td>﻿\\nMay I begin by congratulating you. Sir, on ...</td>\n",
       "    </tr>\n",
       "    <tr>\n",
       "      <th>2</th>\n",
       "      <td>44</td>\n",
       "      <td>1989</td>\n",
       "      <td>NER</td>\n",
       "      <td>﻿\\nMr. President, it is a particular pleasure ...</td>\n",
       "    </tr>\n",
       "    <tr>\n",
       "      <th>3</th>\n",
       "      <td>44</td>\n",
       "      <td>1989</td>\n",
       "      <td>URY</td>\n",
       "      <td>﻿\\nDuring the debate at the fortieth session o...</td>\n",
       "    </tr>\n",
       "    <tr>\n",
       "      <th>4</th>\n",
       "      <td>44</td>\n",
       "      <td>1989</td>\n",
       "      <td>ZWE</td>\n",
       "      <td>﻿I should like at the outset to express my del...</td>\n",
       "    </tr>\n",
       "  </tbody>\n",
       "</table>\n",
       "</div>"
      ],
      "text/plain": [
       "   session  year country                                               text\n",
       "0       44  1989     MDV  ﻿It is indeed a pleasure for me and the member...\n",
       "1       44  1989     FIN  ﻿\\nMay I begin by congratulating you. Sir, on ...\n",
       "2       44  1989     NER  ﻿\\nMr. President, it is a particular pleasure ...\n",
       "3       44  1989     URY  ﻿\\nDuring the debate at the fortieth session o...\n",
       "4       44  1989     ZWE  ﻿I should like at the outset to express my del..."
      ]
     },
     "execution_count": 24,
     "metadata": {},
     "output_type": "execute_result"
    }
   ],
   "source": [
    "data.head()"
   ]
  },
  {
   "cell_type": "code",
   "execution_count": 26,
   "metadata": {},
   "outputs": [
    {
     "data": {
      "text/plain": [
       "'\\ufeffi like outset express deleg satisfact pleasur elect sir presid general assembl fortyfourth session unanim decis reflect distinguish record foreign minist perman repres countri unit nation also prestig countri nigeria us africa proud outgo presid general assembl mr dant caputo argentina shoulder respons offic distinct moment difficult year wish acknowledg debt secretarygener mr javier perez de cuellar head organ roost troubl also product success year turnaround fortun unit nation watch owe much skill helmsman want reassur continu confid current session general assembl must serious address problem affect world economi vital field intern econom relat fresh breez led excit intern polit relat even made rippl direct world economi still determin small circl rich power nation shortterm expedi requir individu nation economi often taken preced step requir healthier world economi state would benefit long run smaller countri result collaps commod price caus sever prejudici term trade sever time volum qualiti produc requir purchas amount manufactur good north requir year ago addit necessari borrow part develop countri coupl high interest rate result debilit debtservic burden countri culmin net revers transfer resourc south north order near 50 billion annual accord calcul intern financi institut fifti billion dollar annual big amount owe ate inform money still continu flow develop countri develop countri conscienc talk kinder gentler time continu counten continu transfer phenomen amount resourc poor hungri rich affluent welcom posit develop intern polit stage believ peopl enjoy polit civil right conscienc howev enjoin us submit right enough peopl econom social right well right good health right food shelter tight decent standard live lot one suffer degrad illiteraci poverti hunan right packag element mutual reinforc denial weaken entir packag poor man sick man illiter man manacl man deni individu freedom right free speech packag import goe beyond select time cynic champion right core purpos existence· tight decent meaning life attempt separ one compartment right champion one right expens sow confus set stage futil recrimin state repres assembl subscrib view attempt pursu object good decent exist human be pursuit healthier world economi growth develop poorer countri fairer term trade north south fundament struggl human right tight peopl decent exist interdepend world struggl must involv concert approach includ greater recours multilater mechan part state nation must act togeth solv global interrel problem world economi low commod price high interest rate acut extern indebted polit inclus appear gain ground intern polit relat particular profess big power readi give larger role manag intern affair unit nation also reflect intern econom relat initi taken develop countri urg assembl hold special session econom cooper particular revit growth develop develop countri april 1990 time develop special session focus need renew stall northsouth dialogu direct world economi pleas note recent summit confer countri nonalign movement held belgrad endors suggest member state nonalign movement cooper exercis era econom megabloc process form north america europ east west draw closer mani sphere essenti develop countri left discuss mechan affect futur cours intern econom polit relat also note prepar way elabor intern develop strategi fourth unit nation develop decad wish stress complementar see process next year special session econom cooper alreadi refer follow 1986 special session general assembl critic econom situat africa assembl adopt unit nation programm action african econom recoveri develop 19861990 programm repres compact african countri intern communiti especi donor countri african countri take step redress economi structur adjust programm done often signific social polit cost intern communiti undertook creat intern environ conduc african recoveri facilit increas commod price resourc 21ow contin midterm review implement programm annex resolut 4327 1988 clear state intern communiti kept side bargain african state made adjust requir let echo word mr michael manley prime minist jamaica sand recent done everyth ask us side done commod price continu fall resourc flow africa increas appreci way given sacrific african countri made keep part bargain import programm made work sinc review programm take place 1991 programm run 1990 import programm mandat run final review hope decis taken session problem environ affect entir globe common abod mani speaker refer import factor deplet ozon layer poison atmospher river degrad environ affect us global warm general climat affect com tri europ america africa everywher us africa problem environ import face one repres describ encroach desert heard mani deleg encroach desert fertil land also relat problem dump nuclear toxic wast subject resolut organ african uniti oau intern atom energi agenc general assembl last year greater respons need way world use natur resourc dispos danger wast product factori last year repres read press report danger dump wast certain african countri action right condemn oau intern forum therefor welcom intent hold special intern confer environ 1992 also awar often weak ate made pay sin strong control strong much difficult import burden attend upon safeguard environ share judici accord resourc usag wast product need particular essenti new obstacl put path econom progress develop countri alreadi receiv end imbal inequ present intern econom order abus misus intern environ respect right peopl selfdetermin independ also good polit essenti attain mainten world peac general assembl clear recogn fact adopt declar grant independ coloni countri peopl way back decemb 1960 yet today near three decad later coloni still much evid practic realiti time right peopl decid destini deni wellpublic case southern africa middl east especi palestin also countri pacif caribbean basin elsewher howev major issu face organ year decolon namibia birth new nation suprem event intern affair unit nation appoint intermediari event becom even special us ate enter horn stretch implement namibian independ plan much ground alreadi cover much refer made phenomenon speech heard last two week lot still remain done remain fourandahalf week pretoria functionari namibia still refus fulli compli secur council resolut 435 1978 south west africa territori swatp command structur disband end told stood socal disband koevoet 30 septemb prove illusori restrict law particular ag23 continu inhibit freedom assembl registr elector constitu assembl proclam leav much desir proclam affect last week end inform still given exact agre improv made chang record commend unit nation transit assist group untag need vigil ensur next fourandahalf week noth done revers clock intimid follow south west africa peopl organ swapo southafricansponsor democrat turnhall allianc dta end south west african polic regular report fact member read namibian newspap find ate full report attack swapo men support time polic stand untag polic unit stretch breakingpoint told assassin swapo leader actual taken place ate home stretch grave situat still surround event namibia import keep guard remain vigil enter final week elect campaign desper antiswapo forc namibia becom evid daili import therefor urgent action taken strengthen untag polic unit increas number project elector monitor pleas number state repres agre go send observ monitor guest namibia next week observ happen observ guest peopl countri better welcom effort made mani state around globe meanwhil unit nation must prepar wellthoughtout plan postelect period namibia assum elect proceed satisfactorili doubt decolon author unit nation continu respons see namibia independ success good mother give birth abandon babi immedi session general assembl must ensur unit nation prepar good mother deleg readi contribut process clarifi unit nation role transit period follow elect elabor continu unit nation respons ensur namibian independ success urgent task requir immedi attent everi effort made draw attent unit nation secretarygener unit nation general natter especi question conven assembl elect whoever win elect yet clear assembl conven proceed draw constitut lead independ would pleas unit nation would remain seiz problem would continu provid solut time independ south africa apartheid root caus problem southern africa continu firm entrench state emerg still continu mandela polit prison remain incarcer j liber mass democrat movement ant still proscribed· group area pet obnoxi legisl act continu apartheid statut book realiti situat south africa presid de klerk talk reform far remain mere talk import pretoria regim urg go beyond rhetor concret action liber movement readi engag presid de klerk serious negoti formul imagin negoti platform adopt oau ad hoc committe southern africa harar 21 august 1989 well ninth nonalign summit confer belgrad tabl south africa take advantag oliv branch liber movement outlin number confidencebuild measur need negoti begin set fundament human right guid formul new constitut dispens futur south africa quit obvious cours negoti form dialogu take place leader incarcer gaol present restrict eman state emerg remain intern communiti warm welcom import initi peac refer taken liber movement far pretoria remain mum propos told certain seven leader incarcer nay releas sooner later might palliat need complet full constitut dispens peac condit negoti truli take place futur independ south africa pretoria dismantl apartheid import intern communiti intensifi pressur increas sanction secret fact pretoria talk reform direct relat impact intern sanction pressur exert liber forc democrat forc south africa doubt whatsoev sanction work continu work damag south african economi great extent admit econom spokesmen regim therefor sanction certain put pressur regim medicin slowli take effect appeal friend pretoria oppos sanction join rest intern communiti bring meaning pressur bear pretoria appli sanction support liber movement intern bank communiti say 1990 critic year apartheid regim year reschedul debt reschedul debt automat right racist regim let favour grant induc meaning chang south africa concaten event make come reschedul exercis particular potent forc posit polit develop south africa urg banker use given adequ inform ensur ace quit clear choic elsewher southern africa region effort bring peac angola mozambiqu assembl heard statement foreign minist countri elabor measur zimbabw appeal outsid stop support rebel element mozambiqu angola especi unita angola creat difficulti process reconcili seek african solut african problem organ african uniti oau movement nonalign countri unit nation help request requir ask give initi chanc also seek peac effort disput mauritania seneg situat sudan situat ethiopia african solut initi oau work situat appeal outsid interfer process reconcili ate take place satisfi initi taken organ african uniti given time matur provid solut bring peac three area mention also anxious see western sahara independ consolid speed firm secretarygener effort bring perman peac western sahara commend also commend meet took place earlier year king morocco polisarid front hope effort continu denial palestinian peopl right selfdetermin continu sore intern relat deplor heavyhand method occup forc aggriev heroic palestinian nation wish reiter convict intern peac confer unit nation auspic palestin liber organ plo equal partner address aspect middl east crisi bring peac region proclam palestinian state last year import develop area commend commend pio step took pleas 85 countri recogn palestinian state strong posit palestinian leadership abl proceed meaning negoti big power small power other region seiz problem palestin independ palestin long delay like see palestinian peopl take place equal citizen alongsid peopl nation central america welcom decis disband contra schedul elect nicaragua monitor organ american state unit nation host intern observ pleas dialogu resum salvadorian govern marti nation liber front aim bring peac el salvador urg flexibl side peac solut found conflict warn outsid would issu regard central american situat take form urg outsid interfer process take place effort made leader central america corn togeth produc plan enabl enjoy selfdetermin full human right provid peac territori commend outsid interfer respect main instig problem arisen central america cours unit state continu fail troubl water latin america afghanistan urg outsid power stop suppli arm oppos side call upon afghan peopl negoti end civil war spirit nation reconcili pleas note departur soviet troop also pleas note confid patriot act brought afghan peopl hope sooner later conven shura assembl make possibl afghan insid outsid afghanistan get togeth resolv problem believ afghan solv problem peac shura tradit assembl met period past 300 400 year question kampuchea welcom withdraw vietnames forc urg parti concern negoti differ among order arriv accept solut note disappoint failur recent pari confer also note disappoint vietnames phnom penh deleg confer refus accept intern mechan suggest unit nation peacekeep forc made clear make clear see possibl disarm rival forc bring peac cambodia hold elect without activ particip unit nation unit nation much experi peacekeep forc around world view organ assist peacemak peacekeep process regard korean peninsula view korean peopl left alon negoti reunif without outsid interfer urg militari manoeuvr outsid forc often take place peninsula water near stop regard cyprus appeal parti cooper secretarygener search last solut commend meet taken place chairmanship secretarygener presid cyprus repres turkish cypriot call outsid power ceas interf intern affair cyprus belgrad leader nonalign countri call selfdetermin remain coloni new caledonia malvina diego garcia mayott dozen territori scatter across globe fortythird session general assembl declar intern decad erad retrograd system coloni repeat call rostrum seen problem touch upon yet readi promis land new detent notwithstand much remain done unit nation must play central role therefor welcom declar τ made podium great power renew faith unit nation day chang also mean period uncertainti period opportun yet also danger period recours respect organ agenc becom indispens ever recognit fact motiv desir strengthen peac rule law well bring age reason intern relat nonalign countri conven hagu 26 30 june 1989 confer pace rule law intern affair pleas wide attend confer includ import countri member movement confer landmark struggl bring rule law role world court central enjoy resolut conflict manag intern relat import initi taken confer general assembl declar current session decad intern law 1990 1999 lead third hagu peac confer one concret act achiev session general assembl caus peac justic rule law urg member state support nobl initi nonalign countri inform concret propos alreadi submit sixth committe debat last mean least allimport issu nuclear disarma refer extens statement opportun welcom sign treati elimin intermediaterang shorterrang missil inf treati 1987 truli signific step right direct remain achiev even formid comparison inf treati inde tip iceberg superpow special respons regard possessor largest arsenal nuclear chemic weapon mass destruct duti take lead disarma process cours nonalign movement well organ african uniti take credit fact special session general assembl conven last year discuss question disarma made posit abund clear indic hazard war road disarma replet pleas call heed quarter today world still mani problem 1989 window opportun address histori judg us harsh miss opportun '"
      ]
     },
     "execution_count": 26,
     "metadata": {},
     "output_type": "execute_result"
    }
   ],
   "source": [
    "# this should take the text field as the argument not the whole dataframe! I read it as taking everything and\n",
    "#    making one big long string\n",
    "\n",
    "### rewrite it to take string input and output a string of word stems\n",
    "\n",
    "def does_it_all(text):\n",
    "    stems = ''\n",
    "    clean_list = rem_punc_stop(text)\n",
    "    #print('clean_list[0:5]:', clean_list[0:5])\n",
    "    for word in clean_list:\n",
    "        # print(snowball.stem(word))\n",
    "        stems = stems + snowball.stem(word) + ' '\n",
    "    return stems\n",
    "does_it_all(data.loc[4]['text'])        "
   ]
  },
  {
   "cell_type": "markdown",
   "metadata": {},
   "source": [
    "Let's apply our function on speeches from 2001.\n",
    "\n",
    "First create a table that includes all 2001 speeches. Refer to [this doc](https://pandas.pydata.org/pandas-docs/stable/generated/pandas.DataFrame.loc.html)"
   ]
  },
  {
   "cell_type": "code",
   "execution_count": 27,
   "metadata": {},
   "outputs": [
    {
     "data": {
      "text/html": [
       "<div>\n",
       "<table border=\"1\" class=\"dataframe\">\n",
       "  <thead>\n",
       "    <tr style=\"text-align: right;\">\n",
       "      <th></th>\n",
       "      <th>session</th>\n",
       "      <th>year</th>\n",
       "      <th>country</th>\n",
       "      <th>text</th>\n",
       "    </tr>\n",
       "  </thead>\n",
       "  <tbody>\n",
       "    <tr>\n",
       "      <th>7318</th>\n",
       "      <td>56</td>\n",
       "      <td>2001</td>\n",
       "      <td>COM</td>\n",
       "      <td>﻿On\\nbehalf of the Comorian delegation, which ...</td>\n",
       "    </tr>\n",
       "    <tr>\n",
       "      <th>7319</th>\n",
       "      <td>56</td>\n",
       "      <td>2001</td>\n",
       "      <td>RWA</td>\n",
       "      <td>﻿It is a\\ngreat honour for me, on behalf of th...</td>\n",
       "    </tr>\n",
       "    <tr>\n",
       "      <th>7320</th>\n",
       "      <td>56</td>\n",
       "      <td>2001</td>\n",
       "      <td>MMR</td>\n",
       "      <td>﻿On behalf of the\\ndelegation of the Union of ...</td>\n",
       "    </tr>\n",
       "    <tr>\n",
       "      <th>7321</th>\n",
       "      <td>56</td>\n",
       "      <td>2001</td>\n",
       "      <td>PHL</td>\n",
       "      <td>﻿Let me begin by\\ncongratulating Your Excellen...</td>\n",
       "    </tr>\n",
       "    <tr>\n",
       "      <th>7322</th>\n",
       "      <td>56</td>\n",
       "      <td>2001</td>\n",
       "      <td>MRT</td>\n",
       "      <td>﻿I\\nam delighted to be able to congratulate yo...</td>\n",
       "    </tr>\n",
       "  </tbody>\n",
       "</table>\n",
       "</div>"
      ],
      "text/plain": [
       "      session  year country                                               text\n",
       "7318       56  2001     COM  ﻿On\\nbehalf of the Comorian delegation, which ...\n",
       "7319       56  2001     RWA  ﻿It is a\\ngreat honour for me, on behalf of th...\n",
       "7320       56  2001     MMR  ﻿On behalf of the\\ndelegation of the Union of ...\n",
       "7321       56  2001     PHL  ﻿Let me begin by\\ncongratulating Your Excellen...\n",
       "7322       56  2001     MRT  ﻿I\\nam delighted to be able to congratulate yo..."
      ]
     },
     "execution_count": 27,
     "metadata": {},
     "output_type": "execute_result"
    }
   ],
   "source": [
    "speech_2001 = data.loc[data['year'] == 2001]\n",
    "speech_2001.head()"
   ]
  },
  {
   "cell_type": "markdown",
   "metadata": {},
   "source": [
    "Then create a new column in speech_2001 which contains the tokenized string."
   ]
  },
  {
   "cell_type": "code",
   "execution_count": 40,
   "metadata": {},
   "outputs": [
    {
     "name": "stdout",
     "output_type": "stream",
     "text": [
      "7318    ﻿on behalf comorian deleg honour lead behalf o...\n",
      "7319    ﻿it great honour behalf rwandan deleg join pre...\n",
      "7320    ﻿on behalf deleg union myanmar wish extend war...\n",
      "7321    ﻿let begin congratul excel mr han seungsoo ele...\n",
      "7322    ﻿i delight abl congratul sir behalf deleg isla...\n",
      "Name: text, dtype: object\n",
      "<class 'pandas.core.series.Series'>\n"
     ]
    }
   ],
   "source": [
    "# result = pd.concat([df1, df4], axis=1, join='inner')\n",
    "speech_2001_tokens = speech_2001['text'].apply(does_it_all)\n",
    "print(speech_2001_tokens.head())\n",
    "print(type(speech_2001_tokens))\n",
    "\n"
   ]
  },
  {
   "cell_type": "code",
   "execution_count": 46,
   "metadata": {},
   "outputs": [
    {
     "name": "stdout",
     "output_type": "stream",
     "text": [
      "7318    ﻿on behalf comorian deleg honour lead behalf o...\n",
      "7319    ﻿it great honour behalf rwandan deleg join pre...\n",
      "7320    ﻿on behalf deleg union myanmar wish extend war...\n",
      "7321    ﻿let begin congratul excel mr han seungsoo ele...\n",
      "7322    ﻿i delight abl congratul sir behalf deleg isla...\n",
      "Name: text, dtype: object\n"
     ]
    }
   ],
   "source": [
    "speech_2001_tokens.rename('tokens')\n",
    "print(speech_2001_tokens.head())"
   ]
  },
  {
   "cell_type": "code",
   "execution_count": 49,
   "metadata": {},
   "outputs": [
    {
     "data": {
      "text/html": [
       "<div>\n",
       "<table border=\"1\" class=\"dataframe\">\n",
       "  <thead>\n",
       "    <tr style=\"text-align: right;\">\n",
       "      <th></th>\n",
       "      <th>session</th>\n",
       "      <th>year</th>\n",
       "      <th>country</th>\n",
       "      <th>text</th>\n",
       "      <th>tokens</th>\n",
       "    </tr>\n",
       "  </thead>\n",
       "  <tbody>\n",
       "    <tr>\n",
       "      <th>7318</th>\n",
       "      <td>56</td>\n",
       "      <td>2001</td>\n",
       "      <td>COM</td>\n",
       "      <td>﻿On\\nbehalf of the Comorian delegation, which ...</td>\n",
       "      <td>﻿on behalf comorian deleg honour lead behalf o...</td>\n",
       "    </tr>\n",
       "    <tr>\n",
       "      <th>7319</th>\n",
       "      <td>56</td>\n",
       "      <td>2001</td>\n",
       "      <td>RWA</td>\n",
       "      <td>﻿It is a\\ngreat honour for me, on behalf of th...</td>\n",
       "      <td>﻿it great honour behalf rwandan deleg join pre...</td>\n",
       "    </tr>\n",
       "    <tr>\n",
       "      <th>7320</th>\n",
       "      <td>56</td>\n",
       "      <td>2001</td>\n",
       "      <td>MMR</td>\n",
       "      <td>﻿On behalf of the\\ndelegation of the Union of ...</td>\n",
       "      <td>﻿on behalf deleg union myanmar wish extend war...</td>\n",
       "    </tr>\n",
       "    <tr>\n",
       "      <th>7321</th>\n",
       "      <td>56</td>\n",
       "      <td>2001</td>\n",
       "      <td>PHL</td>\n",
       "      <td>﻿Let me begin by\\ncongratulating Your Excellen...</td>\n",
       "      <td>﻿let begin congratul excel mr han seungsoo ele...</td>\n",
       "    </tr>\n",
       "    <tr>\n",
       "      <th>7322</th>\n",
       "      <td>56</td>\n",
       "      <td>2001</td>\n",
       "      <td>MRT</td>\n",
       "      <td>﻿I\\nam delighted to be able to congratulate yo...</td>\n",
       "      <td>﻿i delight abl congratul sir behalf deleg isla...</td>\n",
       "    </tr>\n",
       "    <tr>\n",
       "      <th>7323</th>\n",
       "      <td>56</td>\n",
       "      <td>2001</td>\n",
       "      <td>UZB</td>\n",
       "      <td>﻿Allow me to convey our sincere congratulation...</td>\n",
       "      <td>﻿allow convey sincer congratul mr kofi annan o...</td>\n",
       "    </tr>\n",
       "    <tr>\n",
       "      <th>7324</th>\n",
       "      <td>56</td>\n",
       "      <td>2001</td>\n",
       "      <td>AGO</td>\n",
       "      <td>﻿Allow me to\\nstart by congratulating you, Mr....</td>\n",
       "      <td>﻿allow start congratul mr presid behalf govern...</td>\n",
       "    </tr>\n",
       "    <tr>\n",
       "      <th>7325</th>\n",
       "      <td>56</td>\n",
       "      <td>2001</td>\n",
       "      <td>SUR</td>\n",
       "      <td>﻿My delegation cannot\\nfind the words to conve...</td>\n",
       "      <td>﻿mi deleg find word convey sad plane crash occ...</td>\n",
       "    </tr>\n",
       "    <tr>\n",
       "      <th>7326</th>\n",
       "      <td>56</td>\n",
       "      <td>2001</td>\n",
       "      <td>EGY</td>\n",
       "      <td>﻿Allow me to read the statement that was to be...</td>\n",
       "      <td>﻿allow read statement deliv minist foreign aff...</td>\n",
       "    </tr>\n",
       "    <tr>\n",
       "      <th>7327</th>\n",
       "      <td>56</td>\n",
       "      <td>2001</td>\n",
       "      <td>SLB</td>\n",
       "      <td>﻿At the outset,\\nlet me express my sincere fel...</td>\n",
       "      <td>﻿at outset let express sincer felicit govern p...</td>\n",
       "    </tr>\n",
       "    <tr>\n",
       "      <th>7328</th>\n",
       "      <td>56</td>\n",
       "      <td>2001</td>\n",
       "      <td>BGR</td>\n",
       "      <td>﻿A year after the unique Millennium Assembly,\\...</td>\n",
       "      <td>﻿a year uniqu millennium assembl say unit nati...</td>\n",
       "    </tr>\n",
       "    <tr>\n",
       "      <th>7329</th>\n",
       "      <td>56</td>\n",
       "      <td>2001</td>\n",
       "      <td>GRD</td>\n",
       "      <td>﻿At the outset, my\\ndelegation extends profoun...</td>\n",
       "      <td>﻿at outset deleg extend profound sympathi fami...</td>\n",
       "    </tr>\n",
       "    <tr>\n",
       "      <th>7330</th>\n",
       "      <td>56</td>\n",
       "      <td>2001</td>\n",
       "      <td>NER</td>\n",
       "      <td>﻿The\\nfact that we are meeting under the presi...</td>\n",
       "      <td>﻿the fact meet presid one emin person republ k...</td>\n",
       "    </tr>\n",
       "    <tr>\n",
       "      <th>7331</th>\n",
       "      <td>56</td>\n",
       "      <td>2001</td>\n",
       "      <td>HTI</td>\n",
       "      <td>﻿On behalf\\nof the President of the Republic o...</td>\n",
       "      <td>﻿on behalf presid republ haiti haitian deleg l...</td>\n",
       "    </tr>\n",
       "    <tr>\n",
       "      <th>7332</th>\n",
       "      <td>56</td>\n",
       "      <td>2001</td>\n",
       "      <td>CRI</td>\n",
       "      <td>﻿Allow me at the outset to congratulate you,\\n...</td>\n",
       "      <td>﻿allow outset congratul sir welldeserv elect p...</td>\n",
       "    </tr>\n",
       "    <tr>\n",
       "      <th>7333</th>\n",
       "      <td>56</td>\n",
       "      <td>2001</td>\n",
       "      <td>MNG</td>\n",
       "      <td>﻿At the outset, I wish\\nto pay tribute to the ...</td>\n",
       "      <td>﻿at outset wish pay tribut secretarygener mr k...</td>\n",
       "    </tr>\n",
       "    <tr>\n",
       "      <th>7334</th>\n",
       "      <td>56</td>\n",
       "      <td>2001</td>\n",
       "      <td>GRC</td>\n",
       "      <td>﻿Allow me to\\ncongratulate the President, Mr. ...</td>\n",
       "      <td>﻿allow congratul presid mr han seungsoo elect ...</td>\n",
       "    </tr>\n",
       "    <tr>\n",
       "      <th>7335</th>\n",
       "      <td>56</td>\n",
       "      <td>2001</td>\n",
       "      <td>ISR</td>\n",
       "      <td>﻿First of all, I would really like\\nto congrat...</td>\n",
       "      <td>﻿first would realli like congratul sir elect p...</td>\n",
       "    </tr>\n",
       "    <tr>\n",
       "      <th>7336</th>\n",
       "      <td>56</td>\n",
       "      <td>2001</td>\n",
       "      <td>QAT</td>\n",
       "      <td>﻿It is my pleasure to address the\\nGeneral Ass...</td>\n",
       "      <td>﻿it pleasur address general assembl today capa...</td>\n",
       "    </tr>\n",
       "    <tr>\n",
       "      <th>7337</th>\n",
       "      <td>56</td>\n",
       "      <td>2001</td>\n",
       "      <td>COD</td>\n",
       "      <td>﻿Allow\\nme, at the outset, to add my voice to ...</td>\n",
       "      <td>﻿allow outset add voic distinguish speaker off...</td>\n",
       "    </tr>\n",
       "    <tr>\n",
       "      <th>7338</th>\n",
       "      <td>56</td>\n",
       "      <td>2001</td>\n",
       "      <td>ERI</td>\n",
       "      <td>﻿Please\\nallow me to extend to you, Sir, on be...</td>\n",
       "      <td>﻿pleas allow extend sir behalf deleg eritrea w...</td>\n",
       "    </tr>\n",
       "    <tr>\n",
       "      <th>7339</th>\n",
       "      <td>56</td>\n",
       "      <td>2001</td>\n",
       "      <td>UGA</td>\n",
       "      <td>﻿There is a lot of talk\\nfloating around regar...</td>\n",
       "      <td>﻿there lot talk float around regard catchword ...</td>\n",
       "    </tr>\n",
       "    <tr>\n",
       "      <th>7340</th>\n",
       "      <td>56</td>\n",
       "      <td>2001</td>\n",
       "      <td>MDV</td>\n",
       "      <td>﻿It gives me great\\npleasure, on behalf of my ...</td>\n",
       "      <td>﻿it give great pleasur behalf countri congratu...</td>\n",
       "    </tr>\n",
       "    <tr>\n",
       "      <th>7341</th>\n",
       "      <td>56</td>\n",
       "      <td>2001</td>\n",
       "      <td>THA</td>\n",
       "      <td>﻿It is an honour for\\nme to deliver this state...</td>\n",
       "      <td>﻿it honour deliv statement behalf mr surakiart...</td>\n",
       "    </tr>\n",
       "    <tr>\n",
       "      <th>7342</th>\n",
       "      <td>56</td>\n",
       "      <td>2001</td>\n",
       "      <td>DJI</td>\n",
       "      <td>﻿In view\\nof the catastrophic events that took...</td>\n",
       "      <td>﻿in view catastroph event took place 11 septem...</td>\n",
       "    </tr>\n",
       "    <tr>\n",
       "      <th>7343</th>\n",
       "      <td>56</td>\n",
       "      <td>2001</td>\n",
       "      <td>MHL</td>\n",
       "      <td>﻿On behalf of the\\nGovernment and the people o...</td>\n",
       "      <td>﻿on behalf govern peopl republ marshal island ...</td>\n",
       "    </tr>\n",
       "    <tr>\n",
       "      <th>7344</th>\n",
       "      <td>56</td>\n",
       "      <td>2001</td>\n",
       "      <td>PAK</td>\n",
       "      <td>﻿I would like to\\nextend to you, Mr. President...</td>\n",
       "      <td>﻿i would like extend mr presid felicit elect a...</td>\n",
       "    </tr>\n",
       "    <tr>\n",
       "      <th>7345</th>\n",
       "      <td>56</td>\n",
       "      <td>2001</td>\n",
       "      <td>STP</td>\n",
       "      <td>﻿Mr. President, allow me to\\ncongratulate you ...</td>\n",
       "      <td>﻿mr presid allow congratul behalf state sao to...</td>\n",
       "    </tr>\n",
       "    <tr>\n",
       "      <th>7346</th>\n",
       "      <td>56</td>\n",
       "      <td>2001</td>\n",
       "      <td>CAF</td>\n",
       "      <td>﻿The delegation of the Central African\\nRepubl...</td>\n",
       "      <td>﻿the deleg central african republ would like f...</td>\n",
       "    </tr>\n",
       "    <tr>\n",
       "      <th>7347</th>\n",
       "      <td>56</td>\n",
       "      <td>2001</td>\n",
       "      <td>NRU</td>\n",
       "      <td>﻿I bid the Assembly welcome\\nfrom the people o...</td>\n",
       "      <td>﻿i bid assembl welcom peopl nauru pleasant lit...</td>\n",
       "    </tr>\n",
       "    <tr>\n",
       "      <th>...</th>\n",
       "      <td>...</td>\n",
       "      <td>...</td>\n",
       "      <td>...</td>\n",
       "      <td>...</td>\n",
       "      <td>...</td>\n",
       "    </tr>\n",
       "    <tr>\n",
       "      <th>7477</th>\n",
       "      <td>56</td>\n",
       "      <td>2001</td>\n",
       "      <td>GBR</td>\n",
       "      <td>﻿Please allow me\\nwarmly to congratulate you, ...</td>\n",
       "      <td>﻿pleas allow warm congratul sir assumpt presid...</td>\n",
       "    </tr>\n",
       "    <tr>\n",
       "      <th>7478</th>\n",
       "      <td>56</td>\n",
       "      <td>2001</td>\n",
       "      <td>ESP</td>\n",
       "      <td>﻿First of\\nall, I would like to congratulate M...</td>\n",
       "      <td>﻿first would like congratul mr han seungsoo el...</td>\n",
       "    </tr>\n",
       "    <tr>\n",
       "      <th>7479</th>\n",
       "      <td>56</td>\n",
       "      <td>2001</td>\n",
       "      <td>COG</td>\n",
       "      <td>﻿The crash\\nof American Airlines flight 587 tw...</td>\n",
       "      <td>﻿the crash american airlin flight 587 two day ...</td>\n",
       "    </tr>\n",
       "    <tr>\n",
       "      <th>7480</th>\n",
       "      <td>56</td>\n",
       "      <td>2001</td>\n",
       "      <td>LKA</td>\n",
       "      <td>﻿Every speaker\\nfrom this podium during the sp...</td>\n",
       "      <td>﻿everi speaker podium special debat terror deb...</td>\n",
       "    </tr>\n",
       "    <tr>\n",
       "      <th>7481</th>\n",
       "      <td>56</td>\n",
       "      <td>2001</td>\n",
       "      <td>KGZ</td>\n",
       "      <td>﻿Osmonakun IbraimovI\\nwould like at the outset...</td>\n",
       "      <td>﻿osmonakun ibraimovi would like outset join co...</td>\n",
       "    </tr>\n",
       "    <tr>\n",
       "      <th>7482</th>\n",
       "      <td>56</td>\n",
       "      <td>2001</td>\n",
       "      <td>TJK</td>\n",
       "      <td>﻿This\\nsession of the General Assembly is faci...</td>\n",
       "      <td>﻿this session general assembl face import task...</td>\n",
       "    </tr>\n",
       "    <tr>\n",
       "      <th>7483</th>\n",
       "      <td>56</td>\n",
       "      <td>2001</td>\n",
       "      <td>IND</td>\n",
       "      <td>﻿I congratulate the President on his election ...</td>\n",
       "      <td>﻿i congratul presid elect presid general assem...</td>\n",
       "    </tr>\n",
       "    <tr>\n",
       "      <th>7484</th>\n",
       "      <td>56</td>\n",
       "      <td>2001</td>\n",
       "      <td>YEM</td>\n",
       "      <td>﻿I am\\npleased, first of all, to convey throug...</td>\n",
       "      <td>﻿i pleas first convey sir sincer congratul pre...</td>\n",
       "    </tr>\n",
       "    <tr>\n",
       "      <th>7485</th>\n",
       "      <td>56</td>\n",
       "      <td>2001</td>\n",
       "      <td>CZE</td>\n",
       "      <td>﻿Let me\\ncongratulate Mr. Han Seung-soo on his...</td>\n",
       "      <td>﻿let congratul mr han seungsoo elect presid fi...</td>\n",
       "    </tr>\n",
       "    <tr>\n",
       "      <th>7486</th>\n",
       "      <td>56</td>\n",
       "      <td>2001</td>\n",
       "      <td>NAM</td>\n",
       "      <td>﻿The fifty-sixth session\\nof the General Assem...</td>\n",
       "      <td>﻿the fiftysixth session general assembl ordina...</td>\n",
       "    </tr>\n",
       "    <tr>\n",
       "      <th>7487</th>\n",
       "      <td>56</td>\n",
       "      <td>2001</td>\n",
       "      <td>DMA</td>\n",
       "      <td>﻿I am pleased and\\nhonoured to address the Ass...</td>\n",
       "      <td>﻿i pleas honour address assembl behalf govern ...</td>\n",
       "    </tr>\n",
       "    <tr>\n",
       "      <th>7488</th>\n",
       "      <td>56</td>\n",
       "      <td>2001</td>\n",
       "      <td>SWE</td>\n",
       "      <td>﻿Let me start by\\ncongratulating the United Na...</td>\n",
       "      <td>﻿let start congratul unit nation secretari gen...</td>\n",
       "    </tr>\n",
       "    <tr>\n",
       "      <th>7489</th>\n",
       "      <td>56</td>\n",
       "      <td>2001</td>\n",
       "      <td>NLD</td>\n",
       "      <td>﻿How can anyone\\nstand on the smoking ashes of...</td>\n",
       "      <td>﻿how anyon stand smoke ash “ ground zero ” ove...</td>\n",
       "    </tr>\n",
       "    <tr>\n",
       "      <th>7490</th>\n",
       "      <td>56</td>\n",
       "      <td>2001</td>\n",
       "      <td>GAB</td>\n",
       "      <td>﻿\\nI would like to begin by congratulating the...</td>\n",
       "      <td>﻿ would like begin congratul presid outstand e...</td>\n",
       "    </tr>\n",
       "    <tr>\n",
       "      <th>7491</th>\n",
       "      <td>56</td>\n",
       "      <td>2001</td>\n",
       "      <td>LBY</td>\n",
       "      <td>﻿At the\\noutset, I would like to congratulate ...</td>\n",
       "      <td>﻿at outset would like congratul presid unanim ...</td>\n",
       "    </tr>\n",
       "    <tr>\n",
       "      <th>7492</th>\n",
       "      <td>56</td>\n",
       "      <td>2001</td>\n",
       "      <td>LIE</td>\n",
       "      <td>﻿Let me first join\\nprevious speakers in expre...</td>\n",
       "      <td>﻿let first join previous speaker express heart...</td>\n",
       "    </tr>\n",
       "    <tr>\n",
       "      <th>7493</th>\n",
       "      <td>56</td>\n",
       "      <td>2001</td>\n",
       "      <td>BLR</td>\n",
       "      <td>﻿The\\ndelegation of Belarus would like to expr...</td>\n",
       "      <td>﻿the deleg belarus would like express deepest ...</td>\n",
       "    </tr>\n",
       "    <tr>\n",
       "      <th>7494</th>\n",
       "      <td>56</td>\n",
       "      <td>2001</td>\n",
       "      <td>ITA</td>\n",
       "      <td>﻿I wish to congratulate the\\nPresident on his ...</td>\n",
       "      <td>﻿i wish congratul presid elect head first sess...</td>\n",
       "    </tr>\n",
       "    <tr>\n",
       "      <th>7495</th>\n",
       "      <td>56</td>\n",
       "      <td>2001</td>\n",
       "      <td>ARG</td>\n",
       "      <td>﻿Allow\\nme at the outset to congratulate you, ...</td>\n",
       "      <td>﻿allow outset congratul sir elect presid gener...</td>\n",
       "    </tr>\n",
       "    <tr>\n",
       "      <th>7496</th>\n",
       "      <td>56</td>\n",
       "      <td>2001</td>\n",
       "      <td>LAO</td>\n",
       "      <td>﻿On behalf of the delegation of the Lao\\nPeopl...</td>\n",
       "      <td>﻿on behalf deleg lao peopl ’ democrat republ a...</td>\n",
       "    </tr>\n",
       "    <tr>\n",
       "      <th>7497</th>\n",
       "      <td>56</td>\n",
       "      <td>2001</td>\n",
       "      <td>MOZ</td>\n",
       "      <td>﻿I wish to congratulate\\nHis Excellency Mr. Ha...</td>\n",
       "      <td>﻿i wish congratul excel mr han seungsoo upon e...</td>\n",
       "    </tr>\n",
       "    <tr>\n",
       "      <th>7498</th>\n",
       "      <td>56</td>\n",
       "      <td>2001</td>\n",
       "      <td>TGO</td>\n",
       "      <td>﻿The sudden\\nspeeding up of events that has ta...</td>\n",
       "      <td>﻿the sudden speed event taken place sinc fifty...</td>\n",
       "    </tr>\n",
       "    <tr>\n",
       "      <th>7499</th>\n",
       "      <td>56</td>\n",
       "      <td>2001</td>\n",
       "      <td>LBN</td>\n",
       "      <td>﻿Mr. President, allow me first to congratulate...</td>\n",
       "      <td>﻿mr presid allow first congratul elect presid ...</td>\n",
       "    </tr>\n",
       "    <tr>\n",
       "      <th>7500</th>\n",
       "      <td>56</td>\n",
       "      <td>2001</td>\n",
       "      <td>AZE</td>\n",
       "      <td>﻿This session of the\\nGeneral Assembly is bein...</td>\n",
       "      <td>﻿this session general assembl held difficult t...</td>\n",
       "    </tr>\n",
       "    <tr>\n",
       "      <th>7501</th>\n",
       "      <td>56</td>\n",
       "      <td>2001</td>\n",
       "      <td>MKD</td>\n",
       "      <td>﻿At the outset, allow me to convey our\\ndeepes...</td>\n",
       "      <td>﻿at outset allow convey deepest condol america...</td>\n",
       "    </tr>\n",
       "    <tr>\n",
       "      <th>7502</th>\n",
       "      <td>56</td>\n",
       "      <td>2001</td>\n",
       "      <td>KAZ</td>\n",
       "      <td>﻿This session\\nthat is taking place under extr...</td>\n",
       "      <td>﻿this session take place extraordinari circums...</td>\n",
       "    </tr>\n",
       "    <tr>\n",
       "      <th>7503</th>\n",
       "      <td>56</td>\n",
       "      <td>2001</td>\n",
       "      <td>LBR</td>\n",
       "      <td>﻿I am honoured to\\nparticipate in this histori...</td>\n",
       "      <td>﻿i honour particip histor session behalf excel...</td>\n",
       "    </tr>\n",
       "    <tr>\n",
       "      <th>7504</th>\n",
       "      <td>56</td>\n",
       "      <td>2001</td>\n",
       "      <td>BDI</td>\n",
       "      <td>﻿It\\nis for me a signal honour to take the flo...</td>\n",
       "      <td>﻿it signal honour take floor today assembl fif...</td>\n",
       "    </tr>\n",
       "    <tr>\n",
       "      <th>7505</th>\n",
       "      <td>56</td>\n",
       "      <td>2001</td>\n",
       "      <td>HUN</td>\n",
       "      <td>﻿First, may I congratulate Mr. Han Seung-soo o...</td>\n",
       "      <td>﻿first may congratul mr han seungsoo elect pre...</td>\n",
       "    </tr>\n",
       "    <tr>\n",
       "      <th>7506</th>\n",
       "      <td>56</td>\n",
       "      <td>2001</td>\n",
       "      <td>KWT</td>\n",
       "      <td>﻿On behalf of the State of Kuwait, it\\ngives m...</td>\n",
       "      <td>﻿on behalf state kuwait give pleasur congratul...</td>\n",
       "    </tr>\n",
       "  </tbody>\n",
       "</table>\n",
       "<p>189 rows × 5 columns</p>\n",
       "</div>"
      ],
      "text/plain": [
       "      session  year country  \\\n",
       "7318       56  2001     COM   \n",
       "7319       56  2001     RWA   \n",
       "7320       56  2001     MMR   \n",
       "7321       56  2001     PHL   \n",
       "7322       56  2001     MRT   \n",
       "7323       56  2001     UZB   \n",
       "7324       56  2001     AGO   \n",
       "7325       56  2001     SUR   \n",
       "7326       56  2001     EGY   \n",
       "7327       56  2001     SLB   \n",
       "7328       56  2001     BGR   \n",
       "7329       56  2001     GRD   \n",
       "7330       56  2001     NER   \n",
       "7331       56  2001     HTI   \n",
       "7332       56  2001     CRI   \n",
       "7333       56  2001     MNG   \n",
       "7334       56  2001     GRC   \n",
       "7335       56  2001     ISR   \n",
       "7336       56  2001     QAT   \n",
       "7337       56  2001     COD   \n",
       "7338       56  2001     ERI   \n",
       "7339       56  2001     UGA   \n",
       "7340       56  2001     MDV   \n",
       "7341       56  2001     THA   \n",
       "7342       56  2001     DJI   \n",
       "7343       56  2001     MHL   \n",
       "7344       56  2001     PAK   \n",
       "7345       56  2001     STP   \n",
       "7346       56  2001     CAF   \n",
       "7347       56  2001     NRU   \n",
       "...       ...   ...     ...   \n",
       "7477       56  2001     GBR   \n",
       "7478       56  2001     ESP   \n",
       "7479       56  2001     COG   \n",
       "7480       56  2001     LKA   \n",
       "7481       56  2001     KGZ   \n",
       "7482       56  2001     TJK   \n",
       "7483       56  2001     IND   \n",
       "7484       56  2001     YEM   \n",
       "7485       56  2001     CZE   \n",
       "7486       56  2001     NAM   \n",
       "7487       56  2001     DMA   \n",
       "7488       56  2001     SWE   \n",
       "7489       56  2001     NLD   \n",
       "7490       56  2001     GAB   \n",
       "7491       56  2001     LBY   \n",
       "7492       56  2001     LIE   \n",
       "7493       56  2001     BLR   \n",
       "7494       56  2001     ITA   \n",
       "7495       56  2001     ARG   \n",
       "7496       56  2001     LAO   \n",
       "7497       56  2001     MOZ   \n",
       "7498       56  2001     TGO   \n",
       "7499       56  2001     LBN   \n",
       "7500       56  2001     AZE   \n",
       "7501       56  2001     MKD   \n",
       "7502       56  2001     KAZ   \n",
       "7503       56  2001     LBR   \n",
       "7504       56  2001     BDI   \n",
       "7505       56  2001     HUN   \n",
       "7506       56  2001     KWT   \n",
       "\n",
       "                                                   text  \\\n",
       "7318  ﻿On\\nbehalf of the Comorian delegation, which ...   \n",
       "7319  ﻿It is a\\ngreat honour for me, on behalf of th...   \n",
       "7320  ﻿On behalf of the\\ndelegation of the Union of ...   \n",
       "7321  ﻿Let me begin by\\ncongratulating Your Excellen...   \n",
       "7322  ﻿I\\nam delighted to be able to congratulate yo...   \n",
       "7323  ﻿Allow me to convey our sincere congratulation...   \n",
       "7324  ﻿Allow me to\\nstart by congratulating you, Mr....   \n",
       "7325  ﻿My delegation cannot\\nfind the words to conve...   \n",
       "7326  ﻿Allow me to read the statement that was to be...   \n",
       "7327  ﻿At the outset,\\nlet me express my sincere fel...   \n",
       "7328  ﻿A year after the unique Millennium Assembly,\\...   \n",
       "7329  ﻿At the outset, my\\ndelegation extends profoun...   \n",
       "7330  ﻿The\\nfact that we are meeting under the presi...   \n",
       "7331  ﻿On behalf\\nof the President of the Republic o...   \n",
       "7332  ﻿Allow me at the outset to congratulate you,\\n...   \n",
       "7333  ﻿At the outset, I wish\\nto pay tribute to the ...   \n",
       "7334  ﻿Allow me to\\ncongratulate the President, Mr. ...   \n",
       "7335  ﻿First of all, I would really like\\nto congrat...   \n",
       "7336  ﻿It is my pleasure to address the\\nGeneral Ass...   \n",
       "7337  ﻿Allow\\nme, at the outset, to add my voice to ...   \n",
       "7338  ﻿Please\\nallow me to extend to you, Sir, on be...   \n",
       "7339  ﻿There is a lot of talk\\nfloating around regar...   \n",
       "7340  ﻿It gives me great\\npleasure, on behalf of my ...   \n",
       "7341  ﻿It is an honour for\\nme to deliver this state...   \n",
       "7342  ﻿In view\\nof the catastrophic events that took...   \n",
       "7343  ﻿On behalf of the\\nGovernment and the people o...   \n",
       "7344  ﻿I would like to\\nextend to you, Mr. President...   \n",
       "7345  ﻿Mr. President, allow me to\\ncongratulate you ...   \n",
       "7346  ﻿The delegation of the Central African\\nRepubl...   \n",
       "7347  ﻿I bid the Assembly welcome\\nfrom the people o...   \n",
       "...                                                 ...   \n",
       "7477  ﻿Please allow me\\nwarmly to congratulate you, ...   \n",
       "7478  ﻿First of\\nall, I would like to congratulate M...   \n",
       "7479  ﻿The crash\\nof American Airlines flight 587 tw...   \n",
       "7480  ﻿Every speaker\\nfrom this podium during the sp...   \n",
       "7481  ﻿Osmonakun IbraimovI\\nwould like at the outset...   \n",
       "7482  ﻿This\\nsession of the General Assembly is faci...   \n",
       "7483  ﻿I congratulate the President on his election ...   \n",
       "7484  ﻿I am\\npleased, first of all, to convey throug...   \n",
       "7485  ﻿Let me\\ncongratulate Mr. Han Seung-soo on his...   \n",
       "7486  ﻿The fifty-sixth session\\nof the General Assem...   \n",
       "7487  ﻿I am pleased and\\nhonoured to address the Ass...   \n",
       "7488  ﻿Let me start by\\ncongratulating the United Na...   \n",
       "7489  ﻿How can anyone\\nstand on the smoking ashes of...   \n",
       "7490  ﻿\\nI would like to begin by congratulating the...   \n",
       "7491  ﻿At the\\noutset, I would like to congratulate ...   \n",
       "7492  ﻿Let me first join\\nprevious speakers in expre...   \n",
       "7493  ﻿The\\ndelegation of Belarus would like to expr...   \n",
       "7494  ﻿I wish to congratulate the\\nPresident on his ...   \n",
       "7495  ﻿Allow\\nme at the outset to congratulate you, ...   \n",
       "7496  ﻿On behalf of the delegation of the Lao\\nPeopl...   \n",
       "7497  ﻿I wish to congratulate\\nHis Excellency Mr. Ha...   \n",
       "7498  ﻿The sudden\\nspeeding up of events that has ta...   \n",
       "7499  ﻿Mr. President, allow me first to congratulate...   \n",
       "7500  ﻿This session of the\\nGeneral Assembly is bein...   \n",
       "7501  ﻿At the outset, allow me to convey our\\ndeepes...   \n",
       "7502  ﻿This session\\nthat is taking place under extr...   \n",
       "7503  ﻿I am honoured to\\nparticipate in this histori...   \n",
       "7504  ﻿It\\nis for me a signal honour to take the flo...   \n",
       "7505  ﻿First, may I congratulate Mr. Han Seung-soo o...   \n",
       "7506  ﻿On behalf of the State of Kuwait, it\\ngives m...   \n",
       "\n",
       "                                                 tokens  \n",
       "7318  ﻿on behalf comorian deleg honour lead behalf o...  \n",
       "7319  ﻿it great honour behalf rwandan deleg join pre...  \n",
       "7320  ﻿on behalf deleg union myanmar wish extend war...  \n",
       "7321  ﻿let begin congratul excel mr han seungsoo ele...  \n",
       "7322  ﻿i delight abl congratul sir behalf deleg isla...  \n",
       "7323  ﻿allow convey sincer congratul mr kofi annan o...  \n",
       "7324  ﻿allow start congratul mr presid behalf govern...  \n",
       "7325  ﻿mi deleg find word convey sad plane crash occ...  \n",
       "7326  ﻿allow read statement deliv minist foreign aff...  \n",
       "7327  ﻿at outset let express sincer felicit govern p...  \n",
       "7328  ﻿a year uniqu millennium assembl say unit nati...  \n",
       "7329  ﻿at outset deleg extend profound sympathi fami...  \n",
       "7330  ﻿the fact meet presid one emin person republ k...  \n",
       "7331  ﻿on behalf presid republ haiti haitian deleg l...  \n",
       "7332  ﻿allow outset congratul sir welldeserv elect p...  \n",
       "7333  ﻿at outset wish pay tribut secretarygener mr k...  \n",
       "7334  ﻿allow congratul presid mr han seungsoo elect ...  \n",
       "7335  ﻿first would realli like congratul sir elect p...  \n",
       "7336  ﻿it pleasur address general assembl today capa...  \n",
       "7337  ﻿allow outset add voic distinguish speaker off...  \n",
       "7338  ﻿pleas allow extend sir behalf deleg eritrea w...  \n",
       "7339  ﻿there lot talk float around regard catchword ...  \n",
       "7340  ﻿it give great pleasur behalf countri congratu...  \n",
       "7341  ﻿it honour deliv statement behalf mr surakiart...  \n",
       "7342  ﻿in view catastroph event took place 11 septem...  \n",
       "7343  ﻿on behalf govern peopl republ marshal island ...  \n",
       "7344  ﻿i would like extend mr presid felicit elect a...  \n",
       "7345  ﻿mr presid allow congratul behalf state sao to...  \n",
       "7346  ﻿the deleg central african republ would like f...  \n",
       "7347  ﻿i bid assembl welcom peopl nauru pleasant lit...  \n",
       "...                                                 ...  \n",
       "7477  ﻿pleas allow warm congratul sir assumpt presid...  \n",
       "7478  ﻿first would like congratul mr han seungsoo el...  \n",
       "7479  ﻿the crash american airlin flight 587 two day ...  \n",
       "7480  ﻿everi speaker podium special debat terror deb...  \n",
       "7481  ﻿osmonakun ibraimovi would like outset join co...  \n",
       "7482  ﻿this session general assembl face import task...  \n",
       "7483  ﻿i congratul presid elect presid general assem...  \n",
       "7484  ﻿i pleas first convey sir sincer congratul pre...  \n",
       "7485  ﻿let congratul mr han seungsoo elect presid fi...  \n",
       "7486  ﻿the fiftysixth session general assembl ordina...  \n",
       "7487  ﻿i pleas honour address assembl behalf govern ...  \n",
       "7488  ﻿let start congratul unit nation secretari gen...  \n",
       "7489  ﻿how anyon stand smoke ash “ ground zero ” ove...  \n",
       "7490  ﻿ would like begin congratul presid outstand e...  \n",
       "7491  ﻿at outset would like congratul presid unanim ...  \n",
       "7492  ﻿let first join previous speaker express heart...  \n",
       "7493  ﻿the deleg belarus would like express deepest ...  \n",
       "7494  ﻿i wish congratul presid elect head first sess...  \n",
       "7495  ﻿allow outset congratul sir elect presid gener...  \n",
       "7496  ﻿on behalf deleg lao peopl ’ democrat republ a...  \n",
       "7497  ﻿i wish congratul excel mr han seungsoo upon e...  \n",
       "7498  ﻿the sudden speed event taken place sinc fifty...  \n",
       "7499  ﻿mr presid allow first congratul elect presid ...  \n",
       "7500  ﻿this session general assembl held difficult t...  \n",
       "7501  ﻿at outset allow convey deepest condol america...  \n",
       "7502  ﻿this session take place extraordinari circums...  \n",
       "7503  ﻿i honour particip histor session behalf excel...  \n",
       "7504  ﻿it signal honour take floor today assembl fif...  \n",
       "7505  ﻿first may congratul mr han seungsoo elect pre...  \n",
       "7506  ﻿on behalf state kuwait give pleasur congratul...  \n",
       "\n",
       "[189 rows x 5 columns]"
      ]
     },
     "execution_count": 49,
     "metadata": {},
     "output_type": "execute_result"
    }
   ],
   "source": [
    "speech_2001_with_tokens = speech_2001.copy()\n",
    "speech_2001_with_tokens['tokens'] = speech_2001['text'].apply(does_it_all)\n",
    "speech_2001_with_tokens"
   ]
  },
  {
   "cell_type": "markdown",
   "metadata": {},
   "source": [
    "---\n",
    "Notebook developed by: Tian Qin\n",
    "\n",
    "Data Science Modules: http://data.berkeley.edu/education/modules\n"
   ]
  }
 ],
 "metadata": {
  "anaconda-cloud": {},
  "kernelspec": {
   "display_name": "Python 3",
   "language": "python",
   "name": "python3"
  },
  "language_info": {
   "codemirror_mode": {
    "name": "ipython",
    "version": 3
   },
   "file_extension": ".py",
   "mimetype": "text/x-python",
   "name": "python",
   "nbconvert_exporter": "python",
   "pygments_lexer": "ipython3",
   "version": "3.6.1"
  }
 },
 "nbformat": 4,
 "nbformat_minor": 1
}
